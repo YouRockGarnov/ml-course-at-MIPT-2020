{
  "nbformat": 4,
  "nbformat_minor": 0,
  "metadata": {
    "celltoolbar": "Create Assignment",
    "kernelspec": {
      "display_name": "Python 3",
      "language": "python",
      "name": "python3"
    },
    "language_info": {
      "codemirror_mode": {
        "name": "ipython",
        "version": 3
      },
      "file_extension": ".py",
      "mimetype": "text/x-python",
      "name": "python",
      "nbconvert_exporter": "python",
      "pygments_lexer": "ipython3",
      "version": "3.6.4"
    },
    "toc": {
      "base_numbering": 1,
      "nav_menu": {},
      "number_sections": false,
      "sideBar": true,
      "skip_h1_title": false,
      "title_cell": "Table of Contents",
      "title_sidebar": "Contents",
      "toc_cell": false,
      "toc_position": {},
      "toc_section_display": true,
      "toc_window_display": false
    },
    "colab": {
      "name": "Copy of Lab2_boosting.ipynb",
      "provenance": [],
      "toc_visible": true
    }
  },
  "cells": [
    {
      "cell_type": "markdown",
      "metadata": {
        "nbgrader": {
          "grade": false,
          "grade_id": "cell-86e0de040aac317a",
          "locked": true,
          "schema_version": 2,
          "solution": false
        },
        "id": "aSAYk4Vel_df",
        "colab_type": "text",
        "pycharm": {}
      },
      "source": [
        "# Lab assignment №2: Gradient boosting and feature importance estimation\n",
        "\n",
        "This lab assignment consists of several parts. You are supposed to make some transformations, train some models, estimate the quality of the models and explain your results.\n",
        "\n",
        "Several comments:\n",
        "* Don\u0027t hesitate to ask questions, it\u0027s a good practice.\n",
        "* No private/public sharing, please. The copied assignments will be graded with 0 points.\n",
        "* Blocks of this lab will be graded separately."
      ]
    },
    {
      "cell_type": "markdown",
      "metadata": {
        "id": "0iZz8msNl_dg",
        "colab_type": "text",
        "pycharm": {}
      },
      "source": [
        "Here we will work with widely known Human Actividy Recognition (HAR) dataset. Data is available at [UCI repository](https://archive.ics.uci.edu/ml/datasets/human+activity+recognition+using+smartphones). Download it and place in `data/` folder in the same directory as this notebook. There are available both raw and preprocessed datasets. This time we will use the preprocessed one.\n",
        "\n",
        "There are several great frameworks (listed below). However, we recommend to stick to `LightGBM` for this task.\n",
        "* LightGBM by Microsoft. [Link to github](https://github.com/Microsoft/LightGBM). It is one of the most popular frameworks these days that shows both great quality and performance.\n",
        "* xgboost by dlmc. [Link to github](https://github.com/dmlc/xgboost). The most famous framework which got very popular on kaggle.\n",
        "* Catboost by Yandex. [Link to github](https://github.com/catboost/catboost). Novel framework by Yandex company tuned to deal well with categorical features.\n",
        "\n",
        "Some simple preprocessing is done for you. \n",
        "\n",
        "Parts 1 and 3 have the same weight equal to $1$. Part 2 has weight $0.5$.\n",
        "\n",
        "### Part 1:\n",
        "Your __ultimate target is to get familiar with one of the frameworks above__ and achieve at least 90% accuracy on test dataset:\n",
        "\n",
        "* $\\geq 90\\%$ accuracy: 0.5 points for this part\n",
        "* $\\geq 92\\%$ accuracy: 0.7 points for this part\n",
        "* $\\geq 94\\%$ accuracy: 1 point for this part"
      ]
    },
    {
      "cell_type": "code",
      "metadata": {
        "id": "qvz_A6AFl_dh",
        "colab_type": "code",
        "colab": {},
        "pycharm": {}
      },
      "source": "import matplotlib.pyplot as plt\nfrom sklearn.decomposition import PCA\nimport numpy as np",
      "execution_count": 0,
      "outputs": []
    },
    {
      "cell_type": "code",
      "metadata": {
        "id": "6N3fOr59l_dm",
        "colab_type": "code",
        "outputId": "4f71b40a-74d8-44a4-ee3a-2fd09f6fcca8",
        "colab": {
          "base_uri": "https://localhost:8080/",
          "height": 229
        },
        "pycharm": {}
      },
      "source": [
        "X_train \u003d np.genfromtxt(\u0027data/train/X_train.txt\u0027)\n",
        "y_train \u003d np.genfromtxt(\u0027data/train/y_train.txt\u0027)\n",
        "\n",
        "X_test \u003d np.genfromtxt(\u0027data/test/X_test.txt\u0027)\n",
        "y_test \u003d np.genfromtxt(\u0027data/test/y_test.txt\u0027)\n",
        "\n",
        "with open(\u0027data/activity_labels.txt\u0027, \u0027r\u0027) as iofile:\n",
        "    activity_labels \u003d iofile.readlines()\n",
        "\n",
        "activity_labels \u003d [x.replace(\u0027\\n\u0027, \u0027\u0027).split(\u0027 \u0027) for x in activity_labels]\n",
        "activity_labels \u003d dict([(int(x[0]), x[1]) for x in activity_labels])"
      ],
      "execution_count": 0,
      "outputs": [
        {
          "output_type": "error",
          "ename": "NameError",
          "evalue": "ignored",
          "traceback": [
            "\u001b[0;31m---------------------------------------------------------------------------\u001b[0m",
            "\u001b[0;31mNameError\u001b[0m                                 Traceback (most recent call last)",
            "\u001b[0;32m\u003cipython-input-2-478d78b3c08f\u003e\u001b[0m in \u001b[0;36m\u003cmodule\u003e\u001b[0;34m()\u001b[0m\n\u001b[0;32m----\u003e 1\u001b[0;31m \u001b[0mX_train\u001b[0m \u001b[0;34m\u003d\u001b[0m \u001b[0mnp\u001b[0m\u001b[0;34m.\u001b[0m\u001b[0mgenfromtxt\u001b[0m\u001b[0;34m(\u001b[0m\u001b[0;34m\u0027data/train/X_train.txt\u0027\u001b[0m\u001b[0;34m)\u001b[0m\u001b[0;34m\u001b[0m\u001b[0;34m\u001b[0m\u001b[0m\n\u001b[0m\u001b[1;32m      2\u001b[0m \u001b[0my_train\u001b[0m \u001b[0;34m\u003d\u001b[0m \u001b[0mnp\u001b[0m\u001b[0;34m.\u001b[0m\u001b[0mgenfromtxt\u001b[0m\u001b[0;34m(\u001b[0m\u001b[0;34m\u0027data/train/y_train.txt\u0027\u001b[0m\u001b[0;34m)\u001b[0m\u001b[0;34m\u001b[0m\u001b[0;34m\u001b[0m\u001b[0m\n\u001b[1;32m      3\u001b[0m \u001b[0;34m\u001b[0m\u001b[0m\n\u001b[1;32m      4\u001b[0m \u001b[0mX_test\u001b[0m \u001b[0;34m\u003d\u001b[0m \u001b[0mnp\u001b[0m\u001b[0;34m.\u001b[0m\u001b[0mgenfromtxt\u001b[0m\u001b[0;34m(\u001b[0m\u001b[0;34m\u0027data/test/X_test.txt\u0027\u001b[0m\u001b[0;34m)\u001b[0m\u001b[0;34m\u001b[0m\u001b[0;34m\u001b[0m\u001b[0m\n\u001b[1;32m      5\u001b[0m \u001b[0my_test\u001b[0m \u001b[0;34m\u003d\u001b[0m \u001b[0mnp\u001b[0m\u001b[0;34m.\u001b[0m\u001b[0mgenfromtxt\u001b[0m\u001b[0;34m(\u001b[0m\u001b[0;34m\u0027data/test/y_test.txt\u0027\u001b[0m\u001b[0;34m)\u001b[0m\u001b[0;34m\u001b[0m\u001b[0;34m\u001b[0m\u001b[0m\n",
            "\u001b[0;31mNameError\u001b[0m: name \u0027np\u0027 is not defined"
          ]
        }
      ]
    },
    {
      "cell_type": "code",
      "metadata": {
        "id": "3hzUUQ7Dl_dr",
        "colab_type": "code",
        "colab": {},
        "pycharm": {}
      },
      "source": [
        "activity_labels"
      ],
      "execution_count": 0,
      "outputs": []
    },
    {
      "cell_type": "code",
      "metadata": {
        "id": "35Y_ewgvl_du",
        "colab_type": "code",
        "colab": {},
        "pycharm": {}
      },
      "source": [
        "print(X_train.shape)\n",
        "data_mean \u003d X_train.mean(axis\u003d0)\n",
        "data_std \u003d X_train.std(axis\u003d0)\n",
        "\n",
        "X_train \u003d (X_train - data_mean)/data_std\n",
        "X_test \u003d (X_test - data_mean)/data_std"
      ],
      "execution_count": 0,
      "outputs": []
    },
    {
      "cell_type": "markdown",
      "metadata": {
        "id": "LVLaGfKLl_dw",
        "colab_type": "text",
        "pycharm": {}
      },
      "source": [
        "The dataset has some duplicating features. File `unique_columns.txt` stores the indices of the unique ones. "
      ]
    },
    {
      "cell_type": "code",
      "metadata": {
        "id": "J9xnmHodl_dx",
        "colab_type": "code",
        "colab": {},
        "pycharm": {}
      },
      "source": [
        "try: \n",
        "    unique_columns \u003d np.genfromtxt(\u0027unique_columns.txt\u0027, delimiter\u003d\u0027,\u0027).astype(int)\n",
        "except FileNotFoundError:\n",
        "    ! wget https://raw.githubusercontent.com/ml-mipt/ml-mipt/basic_s20/homeworks_basic/Lab2_boosting/unique_columns.txt -nc\n",
        "    unique_columns \u003d np.genfromtxt(\u0027unique_columns.txt\u0027, delimiter\u003d\u0027,\u0027).astype(int)\n",
        "\n",
        "X_train_unique \u003d X_train[:, unique_columns]\n",
        "X_test_unique \u003d X_test[:, unique_columns]"
      ],
      "execution_count": 0,
      "outputs": []
    },
    {
      "cell_type": "markdown",
      "metadata": {
        "id": "ENJe6ewtl_d0",
        "colab_type": "text",
        "pycharm": {}
      },
      "source": [
        "PCA could be useful in this case. E.g."
      ]
    },
    {
      "cell_type": "code",
      "metadata": {
        "id": "APq7aD49l_d1",
        "colab_type": "code",
        "colab": {},
        "pycharm": {}
      },
      "source": [
        "pca \u003d PCA(0.99)"
      ],
      "execution_count": 0,
      "outputs": []
    },
    {
      "cell_type": "code",
      "metadata": {
        "id": "Vr_ZcBBxl_d5",
        "colab_type": "code",
        "colab": {},
        "pycharm": {}
      },
      "source": [
        "X_train_pca \u003d pca.fit_transform(X_train_unique)\n",
        "X_test_pca \u003d pca.transform(X_test_unique)"
      ],
      "execution_count": 0,
      "outputs": []
    },
    {
      "cell_type": "code",
      "metadata": {
        "id": "ACynFcynl_d8",
        "colab_type": "code",
        "colab": {},
        "pycharm": {}
      },
      "source": [
        "X_train_pca.shape"
      ],
      "execution_count": 0,
      "outputs": []
    },
    {
      "cell_type": "code",
      "metadata": {
        "id": "YFoQIEK5l_d-",
        "colab_type": "code",
        "colab": {},
        "pycharm": {}
      },
      "source": [
        "X_test_pca.shape"
      ],
      "execution_count": 0,
      "outputs": []
    },
    {
      "cell_type": "code",
      "metadata": {
        "id": "9xJ_a-3Jl_eB",
        "colab_type": "code",
        "colab": {},
        "pycharm": {}
      },
      "source": [
        "plt.scatter(X_train_pca[:1000, 0], X_train_pca[:1000, 1], c\u003dy_train[:1000])\n",
        "plt.grid()\n",
        "plt.xlabel(\u0027Principal component 1\u0027)\n",
        "plt.ylabel(\u0027Principal component 2\u0027)"
      ],
      "execution_count": 0,
      "outputs": []
    },
    {
      "cell_type": "code",
      "metadata": {
        "id": "JfWLP1IPl_eE",
        "colab_type": "code",
        "colab": {},
        "pycharm": {}
      },
      "source": [
        "plt.scatter(X_train_pca[:1000, 3], X_train_pca[:1000, 4], c\u003dy_train[:1000])\n",
        "plt.grid()\n",
        "plt.xlabel(\u0027Principal component 4\u0027)\n",
        "plt.ylabel(\u0027Principal component 5\u0027)"
      ],
      "execution_count": 0,
      "outputs": []
    },
    {
      "cell_type": "markdown",
      "metadata": {
        "id": "yWWJndGVl_eI",
        "colab_type": "text",
        "pycharm": {}
      },
      "source": [
        "Despite optimal parameters (e.g. for xgboost) can be found on the web, we still want you to use grid/random search (or any other approach) to approximate them by yourself.\n",
        "\n",
        "Please try at least several models of different structure.\n",
        "\n",
        "Provide the following to describe your path:\n",
        "\n",
        "* Plot describing the model accuracy/precision/recall w.r.t. model complexity.\n",
        "* ROC-AUC plot for the 3 best models you aquired (for multiclass case you might refer to the `scikit-plot` library.\n",
        "* Small report describing your experiments.\n",
        "\n",
        "[DART](https://arxiv.org/abs/1505.01866) might be useful as well in your experiments. It is available in [xgboost](https://xgboost.readthedocs.io/en/latest/tutorials/dart.html) and [LightGBM](https://lightgbm.readthedocs.io/en/latest/Parameters.html), but seems [missing in CatBoost](https://github.com/catboost/catboost/issues/1006).\n",
        "\n",
        "__Without the report and plots maximum score for this part of the lab is 0.3 of its full weight.__"
      ]
    },
    {
      "cell_type": "code",
      "metadata": {
        "id": "e1JmSY0Hl_eJ",
        "colab_type": "code",
        "colab": {},
        "pycharm": {}
      },
      "source": [
        "# Your code here."
      ],
      "execution_count": 0,
      "outputs": []
    },
    {
      "cell_type": "markdown",
      "metadata": {
        "id": "rgBvlMz2l_eL",
        "colab_type": "text",
        "pycharm": {}
      },
      "source": [
        "### Part 2. Blending the models\n",
        "\n",
        "Take three (or more) best models and try to build the blending ensemble of them. Compare the quality of the final model using the same quality measures as above."
      ]
    },
    {
      "cell_type": "code",
      "metadata": {
        "id": "xfKR5j8rl_eM",
        "colab_type": "code",
        "colab": {},
        "pycharm": {}
      },
      "source": [
        "# Your code here"
      ],
      "execution_count": 0,
      "outputs": []
    },
    {
      "cell_type": "markdown",
      "metadata": {
        "id": "CycrZ9DSl_eO",
        "colab_type": "text",
        "pycharm": {}
      },
      "source": [
        "### Part 3. Explaining the model and estimating the feature importances.\n",
        "\n",
        "Now your goal to take three best models and estimate feature importances using this models.\n",
        "\n",
        "* First, use the methods that libraries provide by default (e.g. `lightgbm.plot_importance`).\n",
        "* Next, use the [`shap`](https://github.com/slundberg/shap) library to explain the models behaviour and analyse the model performance. Compare the feature importances estimated by `shap` and by methods on the previous step."
      ]
    },
    {
      "cell_type": "code",
      "metadata": {
        "id": "fZbgj6Ozl_eO",
        "colab_type": "code",
        "colab": {},
        "pycharm": {}
      },
      "source": [
        "# Your code here."
      ],
      "execution_count": 0,
      "outputs": []
    }
  ]
}