{
  "nbformat": 4,
  "nbformat_minor": 0,
  "metadata": {
    "kernelspec": {
      "display_name": "Python 3",
      "language": "python",
      "name": "python3"
    },
    "language_info": {
      "codemirror_mode": {
        "name": "ipython",
        "version": 3
      },
      "file_extension": ".py",
      "mimetype": "text/x-python",
      "name": "python",
      "nbconvert_exporter": "python",
      "pygments_lexer": "ipython3",
      "version": "3.7.4"
    },
    "colab": {
      "name": "Lab1_1_almost.ipynb",
      "provenance": [],
      "collapsed_sections": []
    }
  },
  "cells": [
    {
      "cell_type": "markdown",
      "metadata": {
        "id": "xcwOc6fHty92",
        "colab_type": "text"
      },
      "source": [
        "*Credits: materials from this notebook belong to YSDA [Practical DL](https://github.com/yandexdataschool/Practical_DL) course. Special thanks for making them available online.*"
      ]
    },
    {
      "cell_type": "markdown",
      "metadata": {
        "id": "Yz7o67XUty96",
        "colab_type": "text"
      },
      "source": [
        "# Lab assignment №1, part 1\n",
        "\n",
        "This lab assignment consists of several parts. You are supposed to make some transformations, train some models, estimate the quality of the models and explain your results.\n",
        "\n",
        "Several comments:\n",
        "* Don't hesitate to ask questions, it's a good practice.\n",
        "* No private/public sharing, please. The copied assignments will be graded with 0 points.\n",
        "* Blocks of this lab will be graded separately."
      ]
    },
    {
      "cell_type": "markdown",
      "metadata": {
        "id": "NUacD-WXty98",
        "colab_type": "text"
      },
      "source": [
        "## Part 1. Matrix differentiation"
      ]
    },
    {
      "cell_type": "markdown",
      "metadata": {
        "id": "IfUQo9t9ty99",
        "colab_type": "text"
      },
      "source": [
        "Since it easy to google every task please please please try to undestand what's going on. The \"just answer\" thing will be not counted, make sure to present derivation of your solution. It is absolutely OK if you found an answer on web then just exercise in $\\LaTeX$ copying it into here."
      ]
    },
    {
      "cell_type": "markdown",
      "metadata": {
        "id": "hjzE5WT1ty9-",
        "colab_type": "text"
      },
      "source": [
        "Useful links: \n",
        "[1](http://www.machinelearning.ru/wiki/images/2/2a/Matrix-Gauss.pdf)\n",
        "[2](http://www.atmos.washington.edu/~dennis/MatrixCalculus.pdf)\n",
        "[3](http://cal.cs.illinois.edu/~johannes/research/matrix%20calculus.pdf)\n",
        "[4](http://research.microsoft.com/en-us/um/people/cmbishop/prml/index.htm)"
      ]
    },
    {
      "cell_type": "markdown",
      "metadata": {
        "id": "8rNtO7ftty9_",
        "colab_type": "text"
      },
      "source": [
        "## ex. 1"
      ]
    },
    {
      "cell_type": "markdown",
      "metadata": {
        "id": "PfkxRiyEty-C",
        "colab_type": "text"
      },
      "source": [
        "$$  \n",
        "y = x^Tx,  \\quad x \\in \\mathbb{R}^N \n",
        "$$"
      ]
    },
    {
      "cell_type": "markdown",
      "metadata": {
        "id": "yQdQJSmety-E",
        "colab_type": "text"
      },
      "source": [
        "$$\n",
        "\\frac{dy}{dx} = \\frac {\\sum x_i^2} {dx} = \\left( \\frac {d} {dx_1} \\sum x_i^2, \\dots,  \\frac {d} {dx_n} \\sum x_i^2 \\right)^T = 2x\n",
        "$$ "
      ]
    },
    {
      "cell_type": "markdown",
      "metadata": {
        "id": "ZJVD_W9nty-H",
        "colab_type": "text"
      },
      "source": [
        "## ex. 2"
      ]
    },
    {
      "cell_type": "markdown",
      "metadata": {
        "id": "HwU1zutPty-I",
        "colab_type": "text"
      },
      "source": [
        "$$ y = tr(AB) \\quad A,B \\in \\mathbb{R}^{N \\times N} $$ "
      ]
    },
    {
      "cell_type": "markdown",
      "metadata": {
        "id": "s0Kp8w6cty-J",
        "colab_type": "text"
      },
      "source": [
        "$$\n",
        "\\frac{dy}{dA} = \\left( \\frac {d}{da_{ij}} \\sum_{i=1}^n \\sum_{j=1}^n a_{ij} \\cdot b_{ji} \\right)_{ij} = \n",
        "\\left( b_{ji} \\right)_{ij} = B^T\n",
        "$$"
      ]
    },
    {
      "cell_type": "markdown",
      "metadata": {
        "id": "oqdo5uEcty-L",
        "colab_type": "text"
      },
      "source": [
        "## ex. 3"
      ]
    },
    {
      "cell_type": "markdown",
      "metadata": {
        "id": "z6NA24cMty-M",
        "colab_type": "text"
      },
      "source": [
        "$$  \n",
        "y = x^TAc , \\quad A\\in \\mathbb{R}^{N \\times N}, x\\in \\mathbb{R}^{N}, c\\in \\mathbb{R}^{N} \n",
        "$$"
      ]
    },
    {
      "cell_type": "markdown",
      "metadata": {
        "id": "FYStzP-8ty-N",
        "colab_type": "text"
      },
      "source": [
        "$$\n",
        "\\frac{dy}{dx} = \\frac {d} {dx} \\left( \\sum x_i \\cdot (Ac)_i \\right) =\n",
        "\\left( \\frac {d} {dx_1} \\sum x_i \\cdot (Ac)_i, \\dots, \\frac {d} {dx_n} \\sum x_i \\cdot (Ac)_i \\right)^T = \n",
        "\\left( (Ac)_1, \\dots, (Ac)_n \\right)^T = Ac\n",
        "$$"
      ]
    },
    {
      "cell_type": "markdown",
      "metadata": {
        "id": "KPa_CtTBty-O",
        "colab_type": "text"
      },
      "source": [
        "$$\n",
        "\\frac{dy}{dA} = x \\cdot c^T\n",
        "$$ "
      ]
    },
    {
      "cell_type": "markdown",
      "metadata": {
        "id": "ezJP9kPCty-P",
        "colab_type": "text"
      },
      "source": [
        "Hint for the latter (one of the ways): use *ex. 2* result and the fact \n",
        "$$\n",
        "tr(ABC) = tr (CAB)\n",
        "$$"
      ]
    },
    {
      "cell_type": "markdown",
      "metadata": {
        "id": "kIAltvSFty-V",
        "colab_type": "text"
      },
      "source": [
        "## ex. 4"
      ]
    },
    {
      "cell_type": "markdown",
      "metadata": {
        "id": "i3SDa9jqty-X",
        "colab_type": "text"
      },
      "source": [
        "Classic matrix factorization example. Given matrix $X$ you need to find $A$, $S$ to approximate $X$. This can be done by simple gradient descent iteratively alternating $A$ and $S$ updates.\n",
        "$$\n",
        "J = || X - AS ||_F^2  , \\quad A\\in \\mathbb{R}^{N \\times R} , \\quad S\\in \\mathbb{R}^{R \\times M}\n",
        "$$\n",
        "$$\n",
        "\\frac{dJ}{dS} = ? \n",
        "$$\n",
        "\n"
      ]
    },
    {
      "cell_type": "markdown",
      "metadata": {
        "id": "PiUKEMYPulHr",
        "colab_type": "text"
      },
      "source": [
        "https://drive.google.com/open?id=1_vaWqwR9PE1h1IJfThOpPWqKmqnMBm5Q"
      ]
    }
  ]
}