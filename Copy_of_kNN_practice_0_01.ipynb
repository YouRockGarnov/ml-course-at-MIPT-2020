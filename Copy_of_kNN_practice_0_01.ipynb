{
  "nbformat": 4,
  "nbformat_minor": 0,
  "metadata": {
    "kernelspec": {
      "display_name": "Py3 research env",
      "language": "python",
      "name": "py3_research"
    },
    "language_info": {
      "codemirror_mode": {
        "name": "ipython",
        "version": 3
      },
      "file_extension": ".py",
      "mimetype": "text/x-python",
      "name": "python",
      "nbconvert_exporter": "python",
      "pygments_lexer": "ipython3",
      "version": "3.6.7"
    },
    "colab": {
      "name": "Copy of kNN_practice_0_01.ipynb",
      "provenance": [],
      "collapsed_sections": [],
      "toc_visible": true
    }
  },
  "cells": [
    {
      "cell_type": "markdown",
      "metadata": {
        "tags": [
          "pdf-title"
        ],
        "id": "EpGpb74EzdjM",
        "colab_type": "text"
      },
      "source": [
        "# k-Nearest Neighbor (kNN) implementation\n",
        "\n",
        "*Credits: this notebook is deeply based on Stanford CS231n course assignment 1. Source link: http://cs231n.github.io/assignments2019/assignment1/*\n",
        "\n",
        "The kNN classifier consists of two stages:\n",
        "\n",
        "- During training, the classifier takes the training data and simply remembers it\n",
        "- During testing, kNN classifies every test image by comparing to all training images and transfering the labels of the k most similar training examples\n",
        "- The value of k is cross-validated\n",
        "\n",
        "In this exercise you will implement these steps and understand the basic Image Classification pipeline and gain proficiency in writing efficient, vectorized code.\n",
        "\n",
        "We will work with the handwritten digits dataset. Images will be flattened (8x8 sized image -> 64 sized vector) and treated as vectors."
      ]
    },
    {
      "cell_type": "code",
      "metadata": {
        "id": "JrDnlOlJzdjP",
        "colab_type": "code",
        "outputId": "49d680c9-e847-4669-adc3-0d611d2fd5cd",
        "colab": {
          "base_uri": "https://localhost:8080/",
          "height": 202
        }
      },
      "source": [
        "'''\n",
        "If you are using Google Colab, uncomment the next line to download `k_nearest_neighbor.py`. \n",
        "You can open and change it in Colab using the \"Files\" sidebar on the left.\n",
        "'''\n",
        "!wget https://raw.githubusercontent.com/ml-mipt/ml-mipt/basic_s20/homeworks_basic/assignment0_01_kNN/k_nearest_neighbor.py"
      ],
      "execution_count": 0,
      "outputs": [
        {
          "output_type": "stream",
          "text": [
            "--2020-02-21 13:50:38--  https://raw.githubusercontent.com/ml-mipt/ml-mipt/basic_s20/homeworks_basic/assignment0_01_kNN/k_nearest_neighbor.py\n",
            "Resolving raw.githubusercontent.com (raw.githubusercontent.com)... 151.101.0.133, 151.101.64.133, 151.101.128.133, ...\n",
            "Connecting to raw.githubusercontent.com (raw.githubusercontent.com)|151.101.0.133|:443... connected.\n",
            "HTTP request sent, awaiting response... 200 OK\n",
            "Length: 8278 (8.1K) [text/plain]\n",
            "Saving to: ‘k_nearest_neighbor.py.1’\n",
            "\n",
            "\rk_nearest_neighbor.   0%[                    ]       0  --.-KB/s               \rk_nearest_neighbor. 100%[===================>]   8.08K  --.-KB/s    in 0s      \n",
            "\n",
            "2020-02-21 13:50:38 (108 MB/s) - ‘k_nearest_neighbor.py.1’ saved [8278/8278]\n",
            "\n"
          ],
          "name": "stdout"
        }
      ]
    },
    {
      "cell_type": "code",
      "metadata": {
        "id": "x9iQSxkAzdjT",
        "colab_type": "code",
        "outputId": "13a8251d-a71d-4717-a0e5-0b7e1a882b58",
        "colab": {
          "base_uri": "https://localhost:8080/",
          "height": 790
        }
      },
      "source": [
        "from sklearn import datasets\n",
        "dataset = datasets.load_digits()\n",
        "print(dataset.DESCR)"
      ],
      "execution_count": 0,
      "outputs": [
        {
          "output_type": "stream",
          "text": [
            ".. _digits_dataset:\n",
            "\n",
            "Optical recognition of handwritten digits dataset\n",
            "--------------------------------------------------\n",
            "\n",
            "**Data Set Characteristics:**\n",
            "\n",
            "    :Number of Instances: 5620\n",
            "    :Number of Attributes: 64\n",
            "    :Attribute Information: 8x8 image of integer pixels in the range 0..16.\n",
            "    :Missing Attribute Values: None\n",
            "    :Creator: E. Alpaydin (alpaydin '@' boun.edu.tr)\n",
            "    :Date: July; 1998\n",
            "\n",
            "This is a copy of the test set of the UCI ML hand-written digits datasets\n",
            "https://archive.ics.uci.edu/ml/datasets/Optical+Recognition+of+Handwritten+Digits\n",
            "\n",
            "The data set contains images of hand-written digits: 10 classes where\n",
            "each class refers to a digit.\n",
            "\n",
            "Preprocessing programs made available by NIST were used to extract\n",
            "normalized bitmaps of handwritten digits from a preprinted form. From a\n",
            "total of 43 people, 30 contributed to the training set and different 13\n",
            "to the test set. 32x32 bitmaps are divided into nonoverlapping blocks of\n",
            "4x4 and the number of on pixels are counted in each block. This generates\n",
            "an input matrix of 8x8 where each element is an integer in the range\n",
            "0..16. This reduces dimensionality and gives invariance to small\n",
            "distortions.\n",
            "\n",
            "For info on NIST preprocessing routines, see M. D. Garris, J. L. Blue, G.\n",
            "T. Candela, D. L. Dimmick, J. Geist, P. J. Grother, S. A. Janet, and C.\n",
            "L. Wilson, NIST Form-Based Handprint Recognition System, NISTIR 5469,\n",
            "1994.\n",
            "\n",
            ".. topic:: References\n",
            "\n",
            "  - C. Kaynak (1995) Methods of Combining Multiple Classifiers and Their\n",
            "    Applications to Handwritten Digit Recognition, MSc Thesis, Institute of\n",
            "    Graduate Studies in Science and Engineering, Bogazici University.\n",
            "  - E. Alpaydin, C. Kaynak (1998) Cascading Classifiers, Kybernetika.\n",
            "  - Ken Tang and Ponnuthurai N. Suganthan and Xi Yao and A. Kai Qin.\n",
            "    Linear dimensionalityreduction using relevance weighted LDA. School of\n",
            "    Electrical and Electronic Engineering Nanyang Technological University.\n",
            "    2005.\n",
            "  - Claudio Gentile. A New Approximate Maximal Margin Classification\n",
            "    Algorithm. NIPS. 2000.\n"
          ],
          "name": "stdout"
        }
      ]
    },
    {
      "cell_type": "code",
      "metadata": {
        "id": "kkrOeEAIzdjX",
        "colab_type": "code",
        "outputId": "8c1fc1b2-553a-4717-b8d2-8d015c563453",
        "colab": {
          "base_uri": "https://localhost:8080/",
          "height": 84
        }
      },
      "source": [
        "# First 100 images will be used for testing. This dataset is not sorted by the labels, so it's ok\n",
        "# to do the split this way.\n",
        "# Please be careful when you split your data into train and test in general.\n",
        "test_border = 100\n",
        "X_train, y_train = dataset.data[test_border:], dataset.target[test_border:]\n",
        "X_test, y_test = dataset.data[:test_border], dataset.target[:test_border]\n",
        "\n",
        "print('Training data shape: ', X_train.shape)\n",
        "print('Training labels shape: ', y_train.shape)\n",
        "print('Test data shape: ', X_test.shape)\n",
        "print('Test labels shape: ', y_test.shape)\n",
        "num_test = X_test.shape[0]"
      ],
      "execution_count": 0,
      "outputs": [
        {
          "output_type": "stream",
          "text": [
            "Training data shape:  (1697, 64)\n",
            "Training labels shape:  (1697,)\n",
            "Test data shape:  (100, 64)\n",
            "Test labels shape:  (100,)\n"
          ],
          "name": "stdout"
        }
      ]
    },
    {
      "cell_type": "code",
      "metadata": {
        "tags": [
          "pdf-ignore"
        ],
        "id": "Wjs7tol_zdje",
        "colab_type": "code",
        "outputId": "9cce5e95-5f69-4ca2-8f57-16a79828fdc9",
        "colab": {
          "base_uri": "https://localhost:8080/",
          "height": 50
        }
      },
      "source": [
        "# Run some setup code for this notebook.\n",
        "import random\n",
        "import numpy as np\n",
        "import matplotlib.pyplot as plt\n",
        "\n",
        "# This is a bit of magic to make matplotlib figures appear inline in the notebook\n",
        "# rather than in a new window.\n",
        "%matplotlib inline\n",
        "plt.rcParams['figure.figsize'] = (14.0, 12.0) # set default size of plots\n",
        "plt.rcParams['image.interpolation'] = 'nearest'\n",
        "plt.rcParams['image.cmap'] = 'gray'\n",
        "\n",
        "# Some more magic so that the notebook will reload external python modules;\n",
        "# see http://stackoverflow.com/questions/1907993/autoreload-of-modules-in-ipython\n",
        "%load_ext autoreload\n",
        "%autoreload 2"
      ],
      "execution_count": 0,
      "outputs": [
        {
          "output_type": "stream",
          "text": [
            "The autoreload extension is already loaded. To reload it, use:\n",
            "  %reload_ext autoreload\n"
          ],
          "name": "stdout"
        }
      ]
    },
    {
      "cell_type": "code",
      "metadata": {
        "tags": [
          "pdf-ignore"
        ],
        "id": "o0b7ptg0zdjh",
        "colab_type": "code",
        "outputId": "1e708798-8dd9-47ee-9aae-17af249af36c",
        "colab": {
          "base_uri": "https://localhost:8080/",
          "height": 686
        }
      },
      "source": [
        "# Visualize some examples from the dataset.\n",
        "# We show a few examples of training images from each class.\n",
        "classes = list(np.arange(10))\n",
        "num_classes = len(classes)\n",
        "samples_per_class = 7\n",
        "for y, cls in enumerate(classes):\n",
        "    idxs = np.flatnonzero(y_train == y)\n",
        "    idxs = np.random.choice(idxs, samples_per_class, replace=False)\n",
        "    for i, idx in enumerate(idxs):\n",
        "        plt_idx = i * num_classes + y + 1\n",
        "        plt.subplot(samples_per_class, num_classes, plt_idx)\n",
        "        plt.imshow(X_train[idx].reshape((8, 8)).astype('uint8'))\n",
        "        plt.axis('off')\n",
        "        if i == 0:\n",
        "            plt.title(cls)\n",
        "plt.show()"
      ],
      "execution_count": 0,
      "outputs": [
        {
          "output_type": "display_data",
          "data": {
            "image/png": "[encoded data removed]",
            "text/plain": [
              "<Figure size 1008x864 with 70 Axes>"
            ]
          },
          "metadata": {
            "tags": []
          }
        }
      ]
    },
    {
      "cell_type": "markdown",
      "metadata": {
        "id": "lSC6qewczdjk",
        "colab_type": "text"
      },
      "source": [
        "Autoreload is a great stuff, but sometimes it does not work as intended. The code below aims to fix than. __Do not forget to save your changes in the `.py` file before reloading the `KNearestNeighbor` class.__"
      ]
    },
    {
      "cell_type": "code",
      "metadata": {
        "tags": [
          "pdf-ignore"
        ],
        "id": "CfEyDrgTzdjl",
        "colab_type": "code",
        "colab": {}
      },
      "source": [
        "# This dirty hack might help if the autoreload has failed for some reason\n",
        "try:\n",
        "    del KNearestNeighbor\n",
        "except:\n",
        "    pass\n",
        "\n",
        "from k_nearest_neighbor import KNearestNeighbor\n",
        "\n",
        "# Create a kNN classifier instance. \n",
        "# Remember that training a kNN classifier is a noop: \n",
        "# the Classifier simply remembers the data and does no further processing \n",
        "classifier = KNearestNeighbor()\n",
        "classifier.fit(X_train, y_train)"
      ],
      "execution_count": 0,
      "outputs": []
    },
    {
      "cell_type": "code",
      "metadata": {
        "id": "MfRgR_T0zdjp",
        "colab_type": "code",
        "outputId": "286c01c6-6278-48e6-e0bf-8d9e2dd7e97b",
        "colab": {
          "base_uri": "https://localhost:8080/",
          "height": 34
        }
      },
      "source": [
        "X_train.shape"
      ],
      "execution_count": 0,
      "outputs": [
        {
          "output_type": "execute_result",
          "data": {
            "text/plain": [
              "(1697, 64)"
            ]
          },
          "metadata": {
            "tags": []
          },
          "execution_count": 12
        }
      ]
    },
    {
      "cell_type": "markdown",
      "metadata": {
        "id": "mtwFh_1-zdjs",
        "colab_type": "text"
      },
      "source": [
        "We would now like to classify the test data with the kNN classifier. Recall that we can break down this process into two steps: \n",
        "\n",
        "1. First we must compute the distances between all test examples and all train examples. \n",
        "2. Given these distances, for each test example we find the k nearest examples and have them vote for the label\n",
        "\n",
        "Lets begin with computing the distance matrix between all training and test examples. For example, if there are **Ntr** training examples and **Nte** test examples, this stage should result in a **Nte x Ntr** matrix where each element (i,j) is the distance between the i-th test and j-th train example.\n",
        "\n",
        "**Note: For the three distance computations that we require you to implement in this notebook, you may not use the np.linalg.norm() function that numpy provides.**\n",
        "\n",
        "First, open `k_nearest_neighbor.py` and implement the function `compute_distances_two_loops` that uses a (very inefficient) double loop over all pairs of (test, train) examples and computes the distance matrix one element at a time."
      ]
    },
    {
      "cell_type": "code",
      "metadata": {
        "id": "Xbg25s0Czdjt",
        "colab_type": "code",
        "outputId": "fbbe7fa6-6de2-4aec-a767-ba45c6394b18",
        "colab": {
          "base_uri": "https://localhost:8080/",
          "height": 34
        }
      },
      "source": [
        "# Open k_nearest_neighbor.py and implement\n",
        "# compute_distances_two_loops.\n",
        "\n",
        "# Test your implementation:\n",
        "dists = classifier.compute_distances_two_loops(X_test)\n",
        "print(dists.shape)"
      ],
      "execution_count": 0,
      "outputs": [
        {
          "output_type": "stream",
          "text": [
            "(100, 1697)\n"
          ],
          "name": "stdout"
        }
      ]
    },
    {
      "cell_type": "code",
      "metadata": {
        "id": "0KmVvyoPzdjy",
        "colab_type": "code",
        "outputId": "7a9945cf-a4c2-43ec-c562-c6aaacf01add",
        "colab": {
          "base_uri": "https://localhost:8080/",
          "height": 98
        }
      },
      "source": [
        "# We can visualize the distance matrix: each row is a single test example and\n",
        "# its distances to training examples\n",
        "plt.imshow(dists, interpolation='none')\n",
        "plt.show()"
      ],
      "execution_count": 0,
      "outputs": [
        {
          "output_type": "display_data",
          "data": {
            "image/png": "[encoded data removed]",
            "text/plain": [
              "<Figure size 1008x864 with 1 Axes>"
            ]
          },
          "metadata": {
            "tags": []
          }
        }
      ]
    },
    {
      "cell_type": "markdown",
      "metadata": {
        "tags": [
          "pdf-inline"
        ],
        "id": "9ZTzAK7qzdj9",
        "colab_type": "text"
      },
      "source": [
        "**Inline Question 1** \n",
        "\n",
        "Notice the structured patterns in the distance matrix, where some rows or columns are visible brighter. (Note that with the default color scheme black indicates low distances while white indicates high distances.)\n",
        "\n",
        "- What in the data is the cause behind the distinctly bright rows?\n",
        "- What causes the columns?\n",
        "\n",
        "$\\color{blue}{\\textit Your Answer:}$ *fill this in.*\n",
        "\n"
      ]
    },
    {
      "cell_type": "code",
      "metadata": {
        "id": "wC2gn3A6zdj-",
        "colab_type": "code",
        "outputId": "efe38d94-f3d8-4ed5-9d5f-7a83063c2743",
        "colab": {
          "base_uri": "https://localhost:8080/",
          "height": 1000
        }
      },
      "source": [
        "# Now implement the function predict_labels and run the code below:\n",
        "# We use k = 1 (which is Nearest Neighbor).\n",
        "y_test_pred = classifier.predict_labels(dists, k=1)\n",
        "\n",
        "# Compute and print the fraction of correctly predicted examples\n",
        "num_correct = np.sum(y_test_pred == y_test)\n",
        "accuracy = float(num_correct) / num_test\n",
        "print('Got %d / %d correct => accuracy: %f' % (num_correct, num_test, accuracy))"
      ],
      "execution_count": 0,
      "outputs": [
        {
          "output_type": "stream",
          "text": [
            "[ 777 1265 1441 ... 1531  509  523]\n",
            "[4 0 5 ... 8 9 8]\n",
            "[0]\n",
            "[1020 1012  950 ...  686  465 1105]\n",
            "[4 0 5 ... 8 9 8]\n",
            "[1]\n",
            "[  15  177  402 ... 1307 1472 1202]\n",
            "[4 0 5 ... 8 9 8]\n",
            "[2]\n",
            "[ 159 1398 1418 ... 1608  657  183]\n",
            "[4 0 5 ... 8 9 8]\n",
            "[3]\n",
            "[1677    0 1635 ... 1494 1011  330]\n",
            "[4 0 5 ... 8 9 8]\n",
            "[4]\n",
            "[ 49 133  99 ... 183 666  63]\n",
            "[4 0 5 ... 8 9 8]\n",
            "[9]\n",
            "[1031 1649  734 ... 1175  163 1472]\n",
            "[4 0 5 ... 8 9 8]\n",
            "[6]\n",
            "[1101 1064 1035 ...  882  847  888]\n",
            "[4 0 5 ... 8 9 8]\n",
            "[7]\n",
            "[  83 1605  148 ... 1472  347  666]\n",
            "[4 0 5 ... 8 9 8]\n",
            "[8]\n",
            "[ 151   99 1695 ... 1174  888 1175]\n",
            "[4 0 5 ... 8 9 8]\n",
            "[9]\n",
            "[ 234  712  156 ... 1011 1428  853]\n",
            "[4 0 5 ... 8 9 8]\n",
            "[0]\n",
            "[ 127  100  376 ...   55 1489  666]\n",
            "[4 0 5 ... 8 9 8]\n",
            "[1]\n",
            "[ 288  298 1271 ...  632 1472  819]\n",
            "[4 0 5 ... 8 9 8]\n",
            "[2]\n",
            "[ 245 1539 1656 ...  220  224  277]\n",
            "[4 0 5 ... 8 9 8]\n",
            "[3]\n",
            "[ 911 1356  809 ... 1337 1040  688]\n",
            "[4 0 5 ... 8 9 8]\n",
            "[4]\n",
            "[1468 1044 1092 ... 1414 1362 1395]\n",
            "[4 0 5 ... 8 9 8]\n",
            "[5]\n",
            "[ 963 1203  123 ...   92 1472 1105]\n",
            "[4 0 5 ... 8 9 8]\n",
            "[6]\n",
            "[ 237 1281   12 ...  817  727  753]\n",
            "[4 0 5 ... 8 9 8]\n",
            "[7]\n",
            "[1314   22 1153 ... 1664  580 1395]\n",
            "[4 0 5 ... 8 9 8]\n",
            "[8]\n",
            "[   5   69   19 ... 1610   63  183]\n",
            "[4 0 5 ... 8 9 8]\n",
            "[9]\n",
            "[748  26 152 ... 816 417 509]\n",
            "[4 0 5 ... 8 9 8]\n",
            "[0]\n",
            "[ 356  376   86 ...   55  666 1489]\n",
            "[4 0 5 ... 8 9 8]\n",
            "[1]\n",
            "[1447  363  288 ...  671  819 1472]\n",
            "[4 0 5 ... 8 9 8]\n",
            "[2]\n",
            "[ 131 1119   53 ...  634 1275 1009]\n",
            "[4 0 5 ... 8 9 8]\n",
            "[3]\n",
            "[ 373    0  407 ... 1011 1159 1337]\n",
            "[4 0 5 ... 8 9 8]\n",
            "[4]\n",
            "[ 561  146  592 ... 1395   72 1472]\n",
            "[4 0 5 ... 8 9 8]\n",
            "[5]\n",
            "[1649 1031 1671 ...  163 1175 1472]\n",
            "[4 0 5 ... 8 9 8]\n",
            "[6]\n",
            "[1611  627  654 ...  817  141  500]\n",
            "[4 0 5 ... 8 9 8]\n",
            "[7]\n",
            "[ 304 1225   68 ... 1357  666 1395]\n",
            "[4 0 5 ... 8 9 8]\n",
            "[8]\n",
            "[   5   69  133 ... 1610   63  183]\n",
            "[4 0 5 ... 8 9 8]\n",
            "[9]\n",
            "[1242 1265 1106 ... 1113 1234 1531]\n",
            "[4 0 5 ... 8 9 8]\n",
            "[0]\n",
            "[  19 1076    5 ...   35  104   63]\n",
            "[4 0 5 ... 8 9 8]\n",
            "[9]\n",
            "[ 975 1222  448 ... 1654  241 1451]\n",
            "[4 0 5 ... 8 9 8]\n",
            "[5]\n",
            "[ 301  750  311 ...  901 1654  819]\n",
            "[4 0 5 ... 8 9 8]\n",
            "[5]\n",
            "[ 780  123  963 ... 1462 1474 1472]\n",
            "[4 0 5 ... 8 9 8]\n",
            "[6]\n",
            "[  20  301 1602 ...  901  819 1654]\n",
            "[4 0 5 ... 8 9 8]\n",
            "[5]\n",
            "[  60  754 1223 ... 1531  509  523]\n",
            "[4 0 5 ... 8 9 8]\n",
            "[0]\n",
            "[377 966 349 ... 589 658 183]\n",
            "[4 0 5 ... 8 9 8]\n",
            "[3]\n",
            "[  27 1085 1314 ... 1405 1395  847]\n",
            "[4 0 5 ... 8 9 8]\n",
            "[8]\n",
            "[1354 1346  355 ...  573  632  589]\n",
            "[4 0 5 ... 8 9 8]\n",
            "[9]\n",
            "[1301 1186 1225 ...  367 1395  347]\n",
            "[4 0 5 ... 8 9 8]\n",
            "[8]\n",
            "[  24  280 1287 ...  986 1172 1190]\n",
            "[4 0 5 ... 8 9 8]\n",
            "[4]\n",
            "[ 376    7  100 ...  104 1159 1489]\n",
            "[4 0 5 ... 8 9 8]\n",
            "[1]\n",
            "[   8 1611  627 ... 1337  141  817]\n",
            "[4 0 5 ... 8 9 8]\n",
            "[7]\n",
            "[1101 1574 1268 ...  858  847  882]\n",
            "[4 0 5 ... 8 9 8]\n",
            "[7]\n",
            "[  93  179  767 ... 1608   63  657]\n",
            "[4 0 5 ... 8 9 8]\n",
            "[3]\n",
            "[ 146   20  750 ... 1472  864  885]\n",
            "[4 0 5 ... 8 9 8]\n",
            "[5]\n",
            "[1068 1267  376 ...  104 1159 1489]\n",
            "[4 0 5 ... 8 9 8]\n",
            "[1]\n",
            "[ 204  205 1479 ... 1472  217  573]\n",
            "[4 0 5 ... 8 9 8]\n",
            "[0]\n",
            "[1577 1325  335 ...  163  573 1175]\n",
            "[4 0 5 ... 8 9 8]\n",
            "[0]\n",
            "[  16   15  402 ...  912 1472  898]\n",
            "[4 0 5 ... 8 9 8]\n",
            "[2]\n",
            "[  15  469  402 ... 1202 1196 1072]\n",
            "[4 0 5 ... 8 9 8]\n",
            "[2]\n",
            "[1611   73 1584 ...  141  206  817]\n",
            "[4 0 5 ... 8 9 8]\n",
            "[7]\n",
            "[ 155 1225 1227 ... 1395 1357 1196]\n",
            "[4 0 5 ... 8 9 8]\n",
            "[8]\n",
            "[  15  538  454 ...  906 1196  851]\n",
            "[4 0 5 ... 8 9 8]\n",
            "[2]\n",
            "[ 85  79  26 ... 417 816 858]\n",
            "[4 0 5 ... 8 9 8]\n",
            "[0]\n",
            "[1068 1243  376 ... 1399  666 1159]\n",
            "[4 0 5 ... 8 9 8]\n",
            "[1]\n",
            "[  15  402  236 ... 1072  448 1202]\n",
            "[4 0 5 ... 8 9 8]\n",
            "[2]\n",
            "[1649  520 1655 ...  163 1462 1472]\n",
            "[4 0 5 ... 8 9 8]\n",
            "[6]\n",
            "[1466   75 1539 ... 1664 1489 1311]\n",
            "[4 0 5 ... 8 9 8]\n",
            "[3]\n",
            "[ 767 1544   93 ...  220  657   63]\n",
            "[4 0 5 ... 8 9 8]\n",
            "[3]\n",
            "[1281  268    8 ...  858  732  882]\n",
            "[4 0 5 ... 8 9 8]\n",
            "[7]\n",
            "[  43  119   89 ... 1489 1164   63]\n",
            "[4 0 5 ... 8 9 8]\n",
            "[3]\n",
            "[ 119 1539 1524 ...  994 1152 1015]\n",
            "[4 0 5 ... 8 9 8]\n",
            "[3]\n",
            "[1178 1144 1154 ... 1190 1132 1173]\n",
            "[4 0 5 ... 8 9 8]\n",
            "[4]\n",
            "[ 889 1123   95 ... 1462 1175 1472]\n",
            "[4 0 5 ... 8 9 8]\n",
            "[6]\n",
            "[  56 1649   96 ... 1175  163 1472]\n",
            "[4 0 5 ... 8 9 8]\n",
            "[6]\n",
            "[ 112  604  182 ...  573 1462 1472]\n",
            "[4 0 5 ... 8 9 8]\n",
            "[6]\n",
            "[  11  160   24 ...  986 1120 1190]\n",
            "[4 0 5 ... 8 9 8]\n",
            "[4]\n",
            "[1528 1511 1470 ... 1098  819  888]\n",
            "[4 0 5 ... 8 9 8]\n",
            "[4]\n",
            "[1267 1068 1058 ...  104 1105 1159]\n",
            "[4 0 5 ... 8 9 8]\n",
            "[1]\n",
            "[1602 1307 1222 ...  901 1654  819]\n",
            "[4 0 5 ... 8 9 8]\n",
            "[5]\n",
            "[  26 1288   85 ...  163  573 1175]\n",
            "[4 0 5 ... 8 9 8]\n",
            "[0]\n",
            "[  49  133   59 ...  589 1679  183]\n",
            "[4 0 5 ... 8 9 8]\n",
            "[9]\n",
            "[1220    2   20 ...  163 1472 1175]\n",
            "[4 0 5 ... 8 9 8]\n",
            "[5]\n",
            "[  15  241  402 ... 1029  692 1072]\n",
            "[4 0 5 ... 8 9 8]\n",
            "[2]\n",
            "[1310 1205 1195 ... 1362 1395 1414]\n",
            "[4 0 5 ... 8 9 8]\n",
            "[8]\n",
            "[ 241  212  177 ...  666 1072 1489]\n",
            "[4 0 5 ... 8 9 8]\n",
            "[1]\n",
            "[1416 1370  365 ...  632  135  573]\n",
            "[4 0 5 ... 8 9 8]\n",
            "[0]\n",
            "[ 334  129  582 ... 1531 1175  573]\n",
            "[4 0 5 ... 8 9 8]\n",
            "[0]\n",
            "[1068  376  356 ...  666  935 1489]\n",
            "[4 0 5 ... 8 9 8]\n",
            "[1]\n",
            "[ 502 1594  524 ...  732  141  817]\n",
            "[4 0 5 ... 8 9 8]\n",
            "[7]\n",
            "[1671 1655 1649 ...  163 1175 1472]\n",
            "[4 0 5 ... 8 9 8]\n",
            "[6]\n",
            "[ 113  117   53 ... 1275  994 1009]\n",
            "[4 0 5 ... 8 9 8]\n",
            "[3]\n",
            "[ 931 1059   32 ...   72   31 1472]\n",
            "[4 0 5 ... 8 9 8]\n",
            "[2]\n",
            "[1068 1058  376 ...  982 1006 1370]\n",
            "[4 0 5 ... 8 9 8]\n",
            "[1]\n",
            "[658   8 627 ... 141 851 500]\n",
            "[4 0 5 ... 8 9 8]\n",
            "[7]\n",
            "[  21 1198   10 ... 1190 1116 1120]\n",
            "[4 0 5 ... 8 9 8]\n",
            "[4]\n",
            "[  56   95  123 ... 1474 1462 1472]\n",
            "[4 0 5 ... 8 9 8]\n",
            "[6]\n",
            "[  43 1146  113 ... 1489 1476 1164]\n",
            "[4 0 5 ... 8 9 8]\n",
            "[3]\n",
            "[   7  100  127 ... 1159  666 1489]\n",
            "[4 0 5 ... 8 9 8]\n",
            "[1]\n",
            "[1140 1160  119 ... 1275  634 1152]\n",
            "[4 0 5 ... 8 9 8]\n",
            "[3]\n",
            "[ 295 1354 1606 ...  579   71   63]\n",
            "[4 0 5 ... 8 9 8]\n",
            "[9]\n",
            "[1446 1198 1058 ... 1393  982 1105]\n",
            "[4 0 5 ... 8 9 8]\n",
            "[1]\n",
            "[268 237  12 ... 882 727 888]\n",
            "[4 0 5 ... 8 9 8]\n",
            "[7]\n",
            "[ 567 1031    6 ...   92 1120  924]\n",
            "[4 0 5 ... 8 9 8]\n",
            "[1]\n",
            "[1179 1075 1085 ... 1422  573 1395]\n",
            "[4 0 5 ... 8 9 8]\n",
            "[8]\n",
            "[   0 1144  407 ... 1011 1159 1173]\n",
            "[4 0 5 ... 8 9 8]\n",
            "[4]\n",
            "[ 113   43  119 ... 1275  634 1164]\n",
            "[4 0 5 ... 8 9 8]\n",
            "[3]\n",
            "[1034  976 1150 ... 1414 1120 1395]\n",
            "[4 0 5 ... 8 9 8]\n",
            "[1]\n",
            "Got 95 / 100 correct => accuracy: 0.950000\n"
          ],
          "name": "stdout"
        }
      ]
    },
    {
      "cell_type": "markdown",
      "metadata": {
        "id": "YhwmyBvfzdkB",
        "colab_type": "text"
      },
      "source": [
        "You should expect to see approximately `95%` accuracy. Now lets try out a larger `k`, say `k = 5`:"
      ]
    },
    {
      "cell_type": "code",
      "metadata": {
        "id": "yaTm3mA3zdkC",
        "colab_type": "code",
        "outputId": "29cce40a-e0af-4dd2-9076-cbd3136234f7",
        "colab": {
          "base_uri": "https://localhost:8080/",
          "height": 1000
        }
      },
      "source": [
        "y_test_pred = classifier.predict_labels(dists, k=5)\n",
        "num_correct = np.sum(y_test_pred == y_test)\n",
        "accuracy = float(num_correct) / num_test\n",
        "print('Got %d / %d correct => accuracy: %f' % (num_correct, num_test, accuracy))"
      ],
      "execution_count": 0,
      "outputs": [
        {
          "output_type": "stream",
          "text": [
            "[ 777 1265 1441 ... 1531  509  523]\n",
            "[4 0 5 ... 8 9 8]\n",
            "[0 0 0 0 0]\n",
            "[1020 1012  950 ...  686  465 1105]\n",
            "[4 0 5 ... 8 9 8]\n",
            "[1 1 1 1 1]\n",
            "[  15  177  402 ... 1307 1472 1202]\n",
            "[4 0 5 ... 8 9 8]\n",
            "[2 1 2 2 2]\n",
            "[ 159 1398 1418 ... 1608  657  183]\n",
            "[4 0 5 ... 8 9 8]\n",
            "[3 3 3 3 3]\n",
            "[1677    0 1635 ... 1494 1011  330]\n",
            "[4 0 5 ... 8 9 8]\n",
            "[4 4 4 4 4]\n",
            "[ 49 133  99 ... 183 666  63]\n",
            "[4 0 5 ... 8 9 8]\n",
            "[9 9 9 9 9]\n",
            "[1031 1649  734 ... 1175  163 1472]\n",
            "[4 0 5 ... 8 9 8]\n",
            "[6 6 6 6 6]\n",
            "[1101 1064 1035 ...  882  847  888]\n",
            "[4 0 5 ... 8 9 8]\n",
            "[7 7 7 7 7]\n",
            "[  83 1605  148 ... 1472  347  666]\n",
            "[4 0 5 ... 8 9 8]\n",
            "[8 8 8 8 8]\n",
            "[ 151   99 1695 ... 1174  888 1175]\n",
            "[4 0 5 ... 8 9 8]\n",
            "[9 9 9 9 9]\n",
            "[ 234  712  156 ... 1011 1428  853]\n",
            "[4 0 5 ... 8 9 8]\n",
            "[0 0 0 0 0]\n",
            "[ 127  100  376 ...   55 1489  666]\n",
            "[4 0 5 ... 8 9 8]\n",
            "[1 1 1 1 1]\n",
            "[ 288  298 1271 ...  632 1472  819]\n",
            "[4 0 5 ... 8 9 8]\n",
            "[2 2 2 2 2]\n",
            "[ 245 1539 1656 ...  220  224  277]\n",
            "[4 0 5 ... 8 9 8]\n",
            "[3 3 3 3 3]\n",
            "[ 911 1356  809 ... 1337 1040  688]\n",
            "[4 0 5 ... 8 9 8]\n",
            "[4 4 4 4 4]\n",
            "[1468 1044 1092 ... 1414 1362 1395]\n",
            "[4 0 5 ... 8 9 8]\n",
            "[5 5 5 5 5]\n",
            "[ 963 1203  123 ...   92 1472 1105]\n",
            "[4 0 5 ... 8 9 8]\n",
            "[6 6 6 6 6]\n",
            "[ 237 1281   12 ...  817  727  753]\n",
            "[4 0 5 ... 8 9 8]\n",
            "[7 7 7 7 7]\n",
            "[1314   22 1153 ... 1664  580 1395]\n",
            "[4 0 5 ... 8 9 8]\n",
            "[8 8 8 8 8]\n",
            "[   5   69   19 ... 1610   63  183]\n",
            "[4 0 5 ... 8 9 8]\n",
            "[9 9 9 9 9]\n",
            "[748  26 152 ... 816 417 509]\n",
            "[4 0 5 ... 8 9 8]\n",
            "[0 0 0 0 0]\n",
            "[ 356  376   86 ...   55  666 1489]\n",
            "[4 0 5 ... 8 9 8]\n",
            "[1 1 1 1 1]\n",
            "[1447  363  288 ...  671  819 1472]\n",
            "[4 0 5 ... 8 9 8]\n",
            "[2 2 2 2 2]\n",
            "[ 131 1119   53 ...  634 1275 1009]\n",
            "[4 0 5 ... 8 9 8]\n",
            "[3 3 3 3 3]\n",
            "[ 373    0  407 ... 1011 1159 1337]\n",
            "[4 0 5 ... 8 9 8]\n",
            "[4 4 4 4 4]\n",
            "[ 561  146  592 ... 1395   72 1472]\n",
            "[4 0 5 ... 8 9 8]\n",
            "[5 5 5 5 5]\n",
            "[1649 1031 1671 ...  163 1175 1472]\n",
            "[4 0 5 ... 8 9 8]\n",
            "[6 6 6 6 6]\n",
            "[1611  627  654 ...  817  141  500]\n",
            "[4 0 5 ... 8 9 8]\n",
            "[7 7 7 7 7]\n",
            "[ 304 1225   68 ... 1357  666 1395]\n",
            "[4 0 5 ... 8 9 8]\n",
            "[8 8 8 8 8]\n",
            "[   5   69  133 ... 1610   63  183]\n",
            "[4 0 5 ... 8 9 8]\n",
            "[9 9 9 3 9]\n",
            "[1242 1265 1106 ... 1113 1234 1531]\n",
            "[4 0 5 ... 8 9 8]\n",
            "[0 0 0 0 0]\n",
            "[  19 1076    5 ...   35  104   63]\n",
            "[4 0 5 ... 8 9 8]\n",
            "[9 9 9 9 9]\n",
            "[ 975 1222  448 ... 1654  241 1451]\n",
            "[4 0 5 ... 8 9 8]\n",
            "[5 5 5 5 5]\n",
            "[ 301  750  311 ...  901 1654  819]\n",
            "[4 0 5 ... 8 9 8]\n",
            "[5 5 5 5 5]\n",
            "[ 780  123  963 ... 1462 1474 1472]\n",
            "[4 0 5 ... 8 9 8]\n",
            "[6 6 6 6 6]\n",
            "[  20  301 1602 ...  901  819 1654]\n",
            "[4 0 5 ... 8 9 8]\n",
            "[5 5 5 5 5]\n",
            "[  60  754 1223 ... 1531  509  523]\n",
            "[4 0 5 ... 8 9 8]\n",
            "[0 0 0 0 0]\n",
            "[377 966 349 ... 589 658 183]\n",
            "[4 0 5 ... 8 9 8]\n",
            "[3 9 3 9 5]\n",
            "[  27 1085 1314 ... 1405 1395  847]\n",
            "[4 0 5 ... 8 9 8]\n",
            "[8 8 8 8 8]\n",
            "[1354 1346  355 ...  573  632  589]\n",
            "[4 0 5 ... 8 9 8]\n",
            "[9 9 9 9 9]\n",
            "[1301 1186 1225 ...  367 1395  347]\n",
            "[4 0 5 ... 8 9 8]\n",
            "[8 8 8 8 8]\n",
            "[  24  280 1287 ...  986 1172 1190]\n",
            "[4 0 5 ... 8 9 8]\n",
            "[4 4 4 4 4]\n",
            "[ 376    7  100 ...  104 1159 1489]\n",
            "[4 0 5 ... 8 9 8]\n",
            "[1 1 1 1 1]\n",
            "[   8 1611  627 ... 1337  141  817]\n",
            "[4 0 5 ... 8 9 8]\n",
            "[7 7 7 7 7]\n",
            "[1101 1574 1268 ...  858  847  882]\n",
            "[4 0 5 ... 8 9 8]\n",
            "[7 7 7 7 7]\n",
            "[  93  179  767 ... 1608   63  657]\n",
            "[4 0 5 ... 8 9 8]\n",
            "[3 3 3 3 3]\n",
            "[ 146   20  750 ... 1472  864  885]\n",
            "[4 0 5 ... 8 9 8]\n",
            "[5 5 5 5 5]\n",
            "[1068 1267  376 ...  104 1159 1489]\n",
            "[4 0 5 ... 8 9 8]\n",
            "[1 1 1 1 1]\n",
            "[ 204  205 1479 ... 1472  217  573]\n",
            "[4 0 5 ... 8 9 8]\n",
            "[0 0 0 0 0]\n",
            "[1577 1325  335 ...  163  573 1175]\n",
            "[4 0 5 ... 8 9 8]\n",
            "[0 0 0 0 0]\n",
            "[  16   15  402 ...  912 1472  898]\n",
            "[4 0 5 ... 8 9 8]\n",
            "[2 2 2 2 8]\n",
            "[  15  469  402 ... 1202 1196 1072]\n",
            "[4 0 5 ... 8 9 8]\n",
            "[2 8 2 2 2]\n",
            "[1611   73 1584 ...  141  206  817]\n",
            "[4 0 5 ... 8 9 8]\n",
            "[7 7 7 7 7]\n",
            "[ 155 1225 1227 ... 1395 1357 1196]\n",
            "[4 0 5 ... 8 9 8]\n",
            "[8 8 8 8 8]\n",
            "[  15  538  454 ...  906 1196  851]\n",
            "[4 0 5 ... 8 9 8]\n",
            "[2 8 8 8 8]\n",
            "[ 85  79  26 ... 417 816 858]\n",
            "[4 0 5 ... 8 9 8]\n",
            "[0 0 0 0 0]\n",
            "[1068 1243  376 ... 1399  666 1159]\n",
            "[4 0 5 ... 8 9 8]\n",
            "[1 1 1 1 1]\n",
            "[  15  402  236 ... 1072  448 1202]\n",
            "[4 0 5 ... 8 9 8]\n",
            "[2 2 1 1 1]\n",
            "[1649  520 1655 ...  163 1462 1472]\n",
            "[4 0 5 ... 8 9 8]\n",
            "[6 6 6 6 6]\n",
            "[1466   75 1539 ... 1664 1489 1311]\n",
            "[4 0 5 ... 8 9 8]\n",
            "[3 3 3 3 3]\n",
            "[ 767 1544   93 ...  220  657   63]\n",
            "[4 0 5 ... 8 9 8]\n",
            "[3 3 3 3 3]\n",
            "[1281  268    8 ...  858  732  882]\n",
            "[4 0 5 ... 8 9 8]\n",
            "[7 7 7 7 7]\n",
            "[  43  119   89 ... 1489 1164   63]\n",
            "[4 0 5 ... 8 9 8]\n",
            "[3 3 3 3 3]\n",
            "[ 119 1539 1524 ...  994 1152 1015]\n",
            "[4 0 5 ... 8 9 8]\n",
            "[3 3 3 3 3]\n",
            "[1178 1144 1154 ... 1190 1132 1173]\n",
            "[4 0 5 ... 8 9 8]\n",
            "[4 4 4 4 4]\n",
            "[ 889 1123   95 ... 1462 1175 1472]\n",
            "[4 0 5 ... 8 9 8]\n",
            "[6 6 6 6 6]\n",
            "[  56 1649   96 ... 1175  163 1472]\n",
            "[4 0 5 ... 8 9 8]\n",
            "[6 6 6 6 6]\n",
            "[ 112  604  182 ...  573 1462 1472]\n",
            "[4 0 5 ... 8 9 8]\n",
            "[6 6 6 6 6]\n",
            "[  11  160   24 ...  986 1120 1190]\n",
            "[4 0 5 ... 8 9 8]\n",
            "[4 4 4 4 4]\n",
            "[1528 1511 1470 ... 1098  819  888]\n",
            "[4 0 5 ... 8 9 8]\n",
            "[4 4 7 9 4]\n",
            "[1267 1068 1058 ...  104 1105 1159]\n",
            "[4 0 5 ... 8 9 8]\n",
            "[1 1 1 1 1]\n",
            "[1602 1307 1222 ...  901 1654  819]\n",
            "[4 0 5 ... 8 9 8]\n",
            "[5 5 5 5 5]\n",
            "[  26 1288   85 ...  163  573 1175]\n",
            "[4 0 5 ... 8 9 8]\n",
            "[0 0 0 0 0]\n",
            "[  49  133   59 ...  589 1679  183]\n",
            "[4 0 5 ... 8 9 8]\n",
            "[9 9 9 9 9]\n",
            "[1220    2   20 ...  163 1472 1175]\n",
            "[4 0 5 ... 8 9 8]\n",
            "[5 5 5 5 3]\n",
            "[  15  241  402 ... 1029  692 1072]\n",
            "[4 0 5 ... 8 9 8]\n",
            "[2 1 2 1 2]\n",
            "[1310 1205 1195 ... 1362 1395 1414]\n",
            "[4 0 5 ... 8 9 8]\n",
            "[8 8 8 8 8]\n",
            "[ 241  212  177 ...  666 1072 1489]\n",
            "[4 0 5 ... 8 9 8]\n",
            "[1 1 1 1 1]\n",
            "[1416 1370  365 ...  632  135  573]\n",
            "[4 0 5 ... 8 9 8]\n",
            "[0 0 0 0 0]\n",
            "[ 334  129  582 ... 1531 1175  573]\n",
            "[4 0 5 ... 8 9 8]\n",
            "[0 0 0 0 0]\n",
            "[1068  376  356 ...  666  935 1489]\n",
            "[4 0 5 ... 8 9 8]\n",
            "[1 1 1 1 1]\n",
            "[ 502 1594  524 ...  732  141  817]\n",
            "[4 0 5 ... 8 9 8]\n",
            "[7 7 7 7 7]\n",
            "[1671 1655 1649 ...  163 1175 1472]\n",
            "[4 0 5 ... 8 9 8]\n",
            "[6 6 6 6 6]\n",
            "[ 113  117   53 ... 1275  994 1009]\n",
            "[4 0 5 ... 8 9 8]\n",
            "[3 3 3 3 3]\n",
            "[ 931 1059   32 ...   72   31 1472]\n",
            "[4 0 5 ... 8 9 8]\n",
            "[2 2 2 2 2]\n",
            "[1068 1058  376 ...  982 1006 1370]\n",
            "[4 0 5 ... 8 9 8]\n",
            "[1 1 1 1 1]\n",
            "[658   8 627 ... 141 851 500]\n",
            "[4 0 5 ... 8 9 8]\n",
            "[7 7 7 7 7]\n",
            "[  21 1198   10 ... 1190 1116 1120]\n",
            "[4 0 5 ... 8 9 8]\n",
            "[4 1 4 1 1]\n",
            "[  56   95  123 ... 1474 1462 1472]\n",
            "[4 0 5 ... 8 9 8]\n",
            "[6 6 6 6 6]\n",
            "[  43 1146  113 ... 1489 1476 1164]\n",
            "[4 0 5 ... 8 9 8]\n",
            "[3 3 3 3 3]\n",
            "[   7  100  127 ... 1159  666 1489]\n",
            "[4 0 5 ... 8 9 8]\n",
            "[1 1 1 1 1]\n",
            "[1140 1160  119 ... 1275  634 1152]\n",
            "[4 0 5 ... 8 9 8]\n",
            "[3 3 3 3 3]\n",
            "[ 295 1354 1606 ...  579   71   63]\n",
            "[4 0 5 ... 8 9 8]\n",
            "[9 9 9 9 9]\n",
            "[1446 1198 1058 ... 1393  982 1105]\n",
            "[4 0 5 ... 8 9 8]\n",
            "[1 1 1 1 1]\n",
            "[268 237  12 ... 882 727 888]\n",
            "[4 0 5 ... 8 9 8]\n",
            "[7 7 7 7 7]\n",
            "[ 567 1031    6 ...   92 1120  924]\n",
            "[4 0 5 ... 8 9 8]\n",
            "[1 6 6 6 1]\n",
            "[1179 1075 1085 ... 1422  573 1395]\n",
            "[4 0 5 ... 8 9 8]\n",
            "[8 8 8 8 8]\n",
            "[   0 1144  407 ... 1011 1159 1173]\n",
            "[4 0 5 ... 8 9 8]\n",
            "[4 4 4 4 4]\n",
            "[ 113   43  119 ... 1275  634 1164]\n",
            "[4 0 5 ... 8 9 8]\n",
            "[3 3 3 3 3]\n",
            "[1034  976 1150 ... 1414 1120 1395]\n",
            "[4 0 5 ... 8 9 8]\n",
            "[1 1 1 1 1]\n",
            "Got 93 / 100 correct => accuracy: 0.930000\n"
          ],
          "name": "stdout"
        }
      ]
    },
    {
      "cell_type": "markdown",
      "metadata": {
        "id": "t75qnfC7zdkG",
        "colab_type": "text"
      },
      "source": [
        "Accuracy should slightly decrease with `k = 5` compared to `k = 1`."
      ]
    },
    {
      "cell_type": "markdown",
      "metadata": {
        "tags": [
          "pdf-inline"
        ],
        "id": "QXJ_xW6nzdkH",
        "colab_type": "text"
      },
      "source": [
        "**Inline Question 2**\n",
        "\n",
        "We can also use other distance metrics such as L1 distance.\n",
        "For pixel values $p_{ij}^{(k)}$ at location $(i,j)$ of some image $I_k$, \n",
        "\n",
        "the mean $\\mu$ across all pixels over all images is $$\\mu=\\frac{1}{nhw}\\sum_{k=1}^n\\sum_{i=1}^{h}\\sum_{j=1}^{w}p_{ij}^{(k)}$$\n",
        "And the pixel-wise mean $\\mu_{ij}$ across all images is \n",
        "$$\\mu_{ij}=\\frac{1}{n}\\sum_{k=1}^np_{ij}^{(k)}.$$\n",
        "The general standard deviation $\\sigma$ and pixel-wise standard deviation $\\sigma_{ij}$ is defined similarly.\n",
        "\n",
        "Which of the following preprocessing steps will not change the performance of a Nearest Neighbor classifier that uses L1 distance? Select all that apply.\n",
        "1. Subtracting the mean $\\mu$ ($\\tilde{p}_{ij}^{(k)}=p_{ij}^{(k)}-\\mu$.)\n",
        "2. Subtracting the per pixel mean $\\mu_{ij}$  ($\\tilde{p}_{ij}^{(k)}=p_{ij}^{(k)}-\\mu_{ij}$.)\n",
        "3. Subtracting the mean $\\mu$ and dividing by the standard deviation $\\sigma$.\n",
        "4. Subtracting the pixel-wise mean $\\mu_{ij}$ and dividing by the pixel-wise standard deviation $\\sigma_{ij}$.\n",
        "5. Rotating the coordinate axes of the data.\n",
        "\n",
        "\n",
        "1) No changes, because if we substract const from all pixels, their difference (sum of modules of differences) will remain stable, because const will be illuminated.\n",
        "\n",
        "2) As previous.\n",
        "\n",
        "3) All values of pixels will reduce or increase in $\\sigma$ times so distance will change in $\\sigma$ times. Algorithm doesn't change accurancy or perfomance, because distances are the same relative to each other.\n",
        "\n",
        "4) In this case all distances will change by $\\sigma_{ij}$. For different $i,j$ distances will change differently, so algorithm, its accuracy and prefomance will be changed.\n",
        "\n",
        "5) Well, this action only changes the order of the data.\n",
        "\n",
        "$\\color{blue}{\\textit Your Explanation:}$\n"
      ]
    },
    {
      "cell_type": "code",
      "metadata": {
        "tags": [
          "pdf-ignore-input"
        ],
        "id": "DYkqYAULzdkI",
        "colab_type": "code",
        "colab": {}
      },
      "source": [
        "# Now lets speed up distance matrix computation by using partial vectorization\n",
        "# with one loop. Implement the function compute_distances_one_loop and run the\n",
        "# code below:\n",
        "dists_one = classifier.compute_distances_one_loop(X_test)\n",
        "\n",
        "# To ensure that our vectorized implementation is correct, we make sure that it\n",
        "# agrees with the naive implementation. There are many ways to decide whether\n",
        "# two matrices are similar; one of the simplest is the Frobenius norm. In case\n",
        "# you haven't seen it before, the Frobenius norm of two matrices is the square\n",
        "# root of the squared sum of differences of all elements; in other words, reshape\n",
        "# the matrices into vectors and compute the Euclidean distance between them.\n",
        "difference = np.linalg.norm(dists - dists_one, ord='fro')\n",
        "print('One loop difference was: %f' % (difference, ))\n",
        "if difference < 0.001:\n",
        "    print('Good! The distance matrices are the same')\n",
        "else:\n",
        "    print('Uh-oh! The distance matrices are different')"
      ],
      "execution_count": 0,
      "outputs": []
    },
    {
      "cell_type": "code",
      "metadata": {
        "scrolled": true,
        "tags": [
          "pdf-ignore-input"
        ],
        "id": "GJdocZmezdkL",
        "colab_type": "code",
        "colab": {}
      },
      "source": [
        "# Now implement the fully vectorized version inside compute_distances_no_loops\n",
        "# and run the code\n",
        "dists_two = classifier.compute_distances_no_loops(X_test)\n",
        "\n",
        "# check that the distance matrix agrees with the one we computed before:\n",
        "difference = np.linalg.norm(dists - dists_two, ord='fro')\n",
        "print('No loop difference was: %f' % (difference, ))\n",
        "if difference < 0.001:\n",
        "    print('Good! The distance matrices are the same')\n",
        "else:\n",
        "    print('Uh-oh! The distance matrices are different')"
      ],
      "execution_count": 0,
      "outputs": []
    },
    {
      "cell_type": "markdown",
      "metadata": {
        "id": "sYIW7SuTzdkP",
        "colab_type": "text"
      },
      "source": [
        "### Comparing handcrafted and `sklearn` implementations\n",
        "In this section we will just compare the performance of handcrafted and `sklearn` kNN algorithms. The predictions should be the same. No need to write any code in this section."
      ]
    },
    {
      "cell_type": "code",
      "metadata": {
        "id": "Rs-ZXAeAzdkQ",
        "colab_type": "code",
        "colab": {}
      },
      "source": [
        "from sklearn import neighbors"
      ],
      "execution_count": 0,
      "outputs": []
    },
    {
      "cell_type": "code",
      "metadata": {
        "id": "HduQ7gC2zdkT",
        "colab_type": "code",
        "colab": {}
      },
      "source": [
        "implemented_knn = KNearestNeighbor()\n",
        "implemented_knn.fit(X_train, y_train)"
      ],
      "execution_count": 0,
      "outputs": []
    },
    {
      "cell_type": "code",
      "metadata": {
        "id": "Q7zX2vVgzdkW",
        "colab_type": "code",
        "colab": {}
      },
      "source": [
        "n_neighbors = 1\n",
        "external_knn = neighbors.KNeighborsClassifier(n_neighbors=n_neighbors)\n",
        "external_knn.fit(X_train, y_train)\n",
        "print('sklearn kNN (k=1) implementation achieves: {} accuracy on the test set'.format(\n",
        "    external_knn.score(X_test, y_test)\n",
        "))\n",
        "y_predicted = implemented_knn.predict(X_test, k=n_neighbors).astype(int)\n",
        "accuracy_score = sum((y_predicted==y_test).astype(float)) / num_test\n",
        "print('Handcrafted kNN (k=1) implementation achieves: {} accuracy on the test set'.format(accuracy_score))\n",
        "assert np.array_equal(\n",
        "    external_knn.predict(X_test),\n",
        "    y_predicted\n",
        "), 'Labels predicted by handcrafted and sklearn kNN implementations are different!'\n",
        "print('\\nsklearn and handcrafted kNN implementations provide same predictions')\n",
        "print('_'*76)\n",
        "\n",
        "\n",
        "n_neighbors = 5\n",
        "external_knn = neighbors.KNeighborsClassifier(n_neighbors=n_neighbors)\n",
        "external_knn.fit(X_train, y_train)\n",
        "print('sklearn kNN (k=5) implementation achieves: {} accuracy on the test set'.format(\n",
        "    external_knn.score(X_test, y_test)\n",
        "))\n",
        "y_predicted = implemented_knn.predict(X_test, k=n_neighbors).astype(int)\n",
        "accuracy_score = sum((y_predicted==y_test).astype(float)) / num_test\n",
        "print('Handcrafted kNN (k=5) implementation achieves: {} accuracy on the test set'.format(accuracy_score))\n",
        "assert np.array_equal(\n",
        "    external_knn.predict(X_test),\n",
        "    y_predicted\n",
        "), 'Labels predicted by handcrafted and sklearn kNN implementations are different!'\n",
        "print('\\nsklearn and handcrafted kNN implementations provide same predictions')\n",
        "print('_'*76)\n",
        "\n"
      ],
      "execution_count": 0,
      "outputs": []
    },
    {
      "cell_type": "markdown",
      "metadata": {
        "id": "mdYYjyqgzdka",
        "colab_type": "text"
      },
      "source": [
        "### Measuring the time\n",
        "Finally let's compare how fast the implementations are.\n",
        "\n",
        "To make the difference more noticable, let's repeat the train and test objects (there is no point but to compute the distance between more pairs)."
      ]
    },
    {
      "cell_type": "code",
      "metadata": {
        "id": "VsYNuX-xzdka",
        "colab_type": "code",
        "colab": {}
      },
      "source": [
        "X_train_big = np.vstack([X_train]*5)\n",
        "X_test_big = np.vstack([X_test]*5)\n",
        "y_train_big = np.hstack([y_train]*5)\n",
        "y_test_big = np.hstack([y_test]*5)"
      ],
      "execution_count": 0,
      "outputs": []
    },
    {
      "cell_type": "code",
      "metadata": {
        "tags": [
          "pdf-ignore-input"
        ],
        "id": "FbnibRFzzdkd",
        "colab_type": "code",
        "colab": {}
      },
      "source": [
        "classifier_big = KNearestNeighbor()\n",
        "classifier_big.fit(X_train_big, y_train_big)\n",
        "# Let's compare how fast the implementations are\n",
        "def time_function(f, *args):\n",
        "    \"\"\"\n",
        "    Call a function f with args and return the time (in seconds) that it took to execute.\n",
        "    \"\"\"\n",
        "    import time\n",
        "    tic = time.time()\n",
        "    f(*args)\n",
        "    toc = time.time()\n",
        "    return toc - tic\n",
        "\n",
        "two_loop_time = time_function(classifier_big.compute_distances_two_loops, X_test_big)\n",
        "print('Two loop version took %f seconds' % two_loop_time)\n",
        "\n",
        "one_loop_time = time_function(classifier_big.compute_distances_one_loop, X_test_big)\n",
        "print('One loop version took %f seconds' % one_loop_time)\n",
        "\n",
        "no_loop_time = time_function(classifier_big.compute_distances_no_loops, X_test_big)\n",
        "print('No loop version took %f seconds' % no_loop_time)\n",
        "\n",
        "# You should see significantly faster performance with the fully vectorized implementation!\n",
        "\n",
        "# NOTE: depending on what machine you're using, \n",
        "# you might not see a speedup when you go from two loops to one loop, \n",
        "# and might even see a slow-down."
      ],
      "execution_count": 0,
      "outputs": []
    },
    {
      "cell_type": "markdown",
      "metadata": {
        "id": "jOAB88eLzdki",
        "colab_type": "text"
      },
      "source": [
        "The improvement seems significant. (On some hardware one loop version may take even more time, than two loop, but no loop should definitely be the fastest. "
      ]
    },
    {
      "cell_type": "markdown",
      "metadata": {
        "tags": [
          "pdf-inline"
        ],
        "id": "SCF46tOQzdkj",
        "colab_type": "text"
      },
      "source": [
        "**Inline Question 3**\n",
        "\n",
        "Which of the following statements about $k$-Nearest Neighbor ($k$-NN) are true in a classification setting, and for all $k$? Select all that apply.\n",
        "1. The decision boundary (hyperplane between classes in feature space) of the k-NN classifier is linear.\n",
        "2. The training error of a 1-NN will always be lower than that of 5-NN.\n",
        "3. The test error of a 1-NN will always be lower than that of a 5-NN.\n",
        "4. The time needed to classify a test example with the k-NN classifier grows with the size of the training set.\n",
        "5. None of the above.\n",
        "\n",
        "$\\color{blue}{\\textit Your Answer:}$\n",
        "\n",
        "2, 4\n",
        "\n",
        "$\\color{blue}{\\textit Your Explanation:}$\n",
        "\n",
        "1) Because we can give simple example of nonliniarity of classification.\n",
        "\n",
        "2) Because the nearest neighbor is self in train data using 1-NN so train error using 1-NN = 0. But using 5-NN it can be not so simple.\n",
        "\n",
        "3) We can make up an example where it is true and the other where it is false.\n",
        "\n",
        "4) We increase size of the distance matrix so time will increase too."
      ]
    },
    {
      "cell_type": "markdown",
      "metadata": {
        "id": "gATvpbPLzdkk",
        "colab_type": "text"
      },
      "source": [
        "\n",
        "### Submitting your work\n",
        "To submit your work you need to log into Yandex contest (link will be provided later) and upload the `k_nearest_neighbor.py` file for the corresponding problem"
      ]
    }
  ]
}