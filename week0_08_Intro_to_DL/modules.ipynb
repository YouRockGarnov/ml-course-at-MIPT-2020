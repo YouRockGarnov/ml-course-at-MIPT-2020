{
  "cells": [
    {
      "cell_type": "markdown",
      "metadata": {
        "pycharm": {}
      },
      "source": [
        "Credits: this notebook belongs to [Practical DL](https://docs.google.com/forms/d/e/1FAIpQLScvrVtuwrHSlxWqHnLt1V-_7h2eON_mlRR6MUb3xEe5x9LuoA/viewform?usp\u003dsf_link) course by Yandex School of Data Analysis."
      ]
    },
    {
      "cell_type": "code",
      "execution_count": 1,
      "metadata": {
        "pycharm": {}
      },
      "outputs": [],
      "source": "import scipy.stats as sps\nimport numpy as np"
    },
    {
      "cell_type": "markdown",
      "metadata": {
        "pycharm": {}
      },
      "source": [
        "**Module** is an abstract class which defines fundamental methods necessary for a training a neural network. You do not need to change anything here, just read the comments."
      ]
    },
    {
      "cell_type": "code",
      "execution_count": 2,
      "metadata": {
        "pycharm": {}
      },
      "outputs": [],
      "source": "class Module(object):\n    \"\"\"\n    Basically, you can think of a module as of a something (black box) \n    which can process `input` data and produce `ouput` data.\n    This is like applying a function which is called `forward`: \n        \n        output \u003d module.forward(input)\n    \n    The module should be able to perform a backward pass: to differentiate the `forward` function. \n    More, it should be able to differentiate it if is a part of chain (chain rule).\n    The latter implies there is a gradient from previous step of a chain rule. \n    \n        gradInput \u003d module.backward(input, gradOutput)\n    \"\"\"\n    def __init__ (self):\n        self.output \u003d None\n        self.gradInput \u003d None\n        self.training \u003d True\n    \n    def forward(self, input):\n        \"\"\"\n        Takes an input object, and computes the corresponding output of the module.\n        \"\"\"\n        return self.updateOutput(input)\n\n    def backward(self,input, gradOutput):\n        \"\"\"\n        Performs a backpropagation step through the module, with respect to the given input.\n        \n        This includes \n         - computing a gradient w.r.t. `input` (is needed for further backprop),\n         - computing a gradient w.r.t. parameters (to update parameters while optimizing).\n        \"\"\"\n        self.updateGradInput(input, gradOutput)\n        self.accGradParameters(input, gradOutput)\n        return self.gradInput\n    \n\n    def updateOutput(self, input):\n        \"\"\"\n        Computes the output using the current parameter set of the class and input.\n        This function returns the result which is stored in the `output` field.\n        \n        Make sure to both store the data in `output` field and return it. \n        \"\"\"\n        \n        # The easiest case:\n            \n        # self.output \u003d input \n        # return self.output\n        \n        pass\n\n    def updateGradInput(self, input, gradOutput):\n        \"\"\"\n        Computing the gradient of the module with respect to its own input. \n        This is returned in `gradInput`. Also, the `gradInput` state variable is updated accordingly.\n        \n        The shape of `gradInput` is always the same as the shape of `input`.\n        \n        Make sure to both store the gradients in `gradInput` field and return it.\n        \"\"\"\n        \n        # The easiest case:\n        \n        # self.gradInput \u003d gradOutput \n        # return self.gradInput\n        \n        pass   \n    \n    def accGradParameters(self, input, gradOutput):\n        \"\"\"\n        Computing the gradient of the module with respect to its own parameters.\n        No need to override if module has no parameters (e.g. ReLU).\n        \"\"\"\n        pass\n    \n    def zeroGradParameters(self): \n        \"\"\"\n        Zeroes `gradParams` variable if the module has params.\n        \"\"\"\n        pass\n        \n    def getParameters(self):\n        \"\"\"\n        Returns a list with its parameters. \n        If the module does not have parameters return empty list. \n        \"\"\"\n        return []\n        \n    def getGradParameters(self):\n        \"\"\"\n        Returns a list with gradients with respect to its parameters. \n        If the module does not have parameters return empty list. \n        \"\"\"\n        return []\n    \n    def train(self):\n        \"\"\"\n        Sets training mode for the module.\n        Training and testing behaviour differs for Dropout, BatchNorm.\n        \"\"\"\n        self.training \u003d True\n    \n    def evaluate(self):\n        \"\"\"\n        Sets evaluation mode for the module.\n        Training and testing behaviour differs for Dropout, BatchNorm.\n        \"\"\"\n        self.training \u003d False\n    \n    def __repr__(self):\n        \"\"\"\n        Pretty printing. Should be overrided in every module if you want \n        to have readable description. \n        \"\"\"\n        return \"Module\""
    },
    {
      "cell_type": "markdown",
      "metadata": {
        "pycharm": {}
      },
      "source": [
        "# Sequential container"
      ]
    },
    {
      "cell_type": "markdown",
      "metadata": {
        "pycharm": {}
      },
      "source": [
        "**Define** a forward and backward pass procedures."
      ]
    },
    {
      "cell_type": "code",
      "execution_count": 3,
      "metadata": {
        "pycharm": {}
      },
      "outputs": [],
      "source": "class Sequential(Module):\n    \"\"\"\n         This class implements a container, which processes `input` data sequentially. \n         \n         `input` is processed by each module (layer) in self.modules consecutively.\n         The resulting array is called `output`. \n    \"\"\"\n    \n    def __init__ (self):\n        super(Sequential, self).__init__()\n        self.modules_outs \u003d {}\n        self.modules \u003d []\n   \n    def add(self, module):\n        \"\"\"\n        Adds a module to the container.\n        \"\"\"\n        self.modules.append(module)\n\n    def updateOutput(self, input):\n        \"\"\"\n        Basic workflow of FORWARD PASS:\n        \n            y_0    \u003d module[0].forward(input)\n            y_1    \u003d module[1].forward(y_0)\n            ...\n            output \u003d module[n-1].forward(y_{n-2})   \n            \n            \n        Just write a little loop. \n        \"\"\"\n\n        self.output \u003d input\n        for i in range(len(self.modules)):\n            self.output \u003d self.modules[i].forward(self.output)\n            self.modules_outs[i] \u003d np.copy(self.output)\n        return self.output\n\n    def backward(self, input, gradOutput):\n        \"\"\"\n        Workflow of BACKWARD PASS:\n            \n            g_{n-1} \u003d module[n-1].backward(y_{n-2}, gradOutput)\n            g_{n-2} \u003d module[n-2].backward(y_{n-3}, g_{n-1})\n            ...\n            g_1 \u003d module[1].backward(y_0, g_2)   \n            gradInput \u003d module[0].backward(input, g_1)   \n             \n             \n        !!!\n                \n        To ech module you need to provide the input, module saw while forward pass, \n        it is used while computing gradients. \n        Make sure that the input for `i-th` layer the output of `module[i]` (just the same input as in forward pass) \n        and NOT `input` to this Sequential module. \n        \n        !!!\n        \n        \"\"\"\n        \n        self.gradInput \u003d gradOutput\n        for i in reversed(range(1, len(self.modules))):\n            self.gradInput \u003d self.modules[i].backward(self.modules_outs[i-1], self.gradInput)\n            \n        self.gradInput \u003d self.modules[0].backward(input, self.gradInput)\n        return self.gradInput\n      \n\n    def zeroGradParameters(self): \n        for module in self.modules:\n            module.zeroGradParameters()\n    \n    def getParameters(self):\n        \"\"\"\n        Should gather all parameters in a list.\n        \"\"\"\n        return [x.getParameters() for x in self.modules]\n    \n    def getGradParameters(self):\n        \"\"\"\n        Should gather all gradients w.r.t parameters in a list.\n        \"\"\"\n        return [x.getGradParameters() for x in self.modules]\n    \n    def __repr__(self):\n        string \u003d \"\".join([str(x) + \u0027\\n\u0027 for x in self.modules])\n        return string\n    \n    def __getitem__(self,x):\n        return self.modules.__getitem__(x)\n    \n    def train(self):\n        \"\"\"\n        Propagates training parameter through all modules\n        \"\"\"\n        self.training \u003d True\n        for module in self.modules:\n            module.train()\n    \n    def evaluate(self):\n        \"\"\"\n        Propagates training parameter through all modules\n        \"\"\"\n        self.training \u003d False\n        for module in self.modules:\n            module.evaluate()"
    },
    {
      "cell_type": "markdown",
      "metadata": {
        "pycharm": {}
      },
      "source": [
        "# Layers"
      ]
    },
    {
      "cell_type": "markdown",
      "metadata": {
        "pycharm": {}
      },
      "source": [
        "## 1. Linear transform layer\n",
        "Also known as dense layer, fully-connected layer, FC-layer, InnerProductLayer (in caffe), affine transform\n",
        "- input:   **`batch_size x n_feats1`**\n",
        "- output: **`batch_size x n_feats2`**"
      ]
    },
    {
      "cell_type": "code",
      "execution_count": 4,
      "metadata": {
        "pycharm": {}
      },
      "outputs": [],
      "source": "class Linear(Module):\n    \"\"\"\n    A module which applies a linear transformation \n    A common name is fully-connected layer, InnerProductLayer in caffe. \n    \n    The module should work with 2D input of shape (n_samples, n_feature).\n    \"\"\"\n    def __init__(self, n_in, n_out):\n        super(Linear, self).__init__()\n       \n        # This is a nice initialization\n        stdv \u003d 1./np.sqrt(n_in)\n        self.W \u003d np.random.uniform(-stdv, stdv, size \u003d (n_out, n_in))\n        self.b \u003d np.random.uniform(-stdv, stdv, size \u003d n_out)\n        \n        self.gradW \u003d np.zeros_like(self.W)\n        self.gradb \u003d np.zeros_like(self.b)\n        \n    def updateOutput(self, input):\n        # Your code goes here. ################################################\n        self.output \u003d np.add(np.dot(input, self.W.T), self.b) \n        return self.output\n    \n    def updateGradInput(self, input, gradOutput):\n        # Your code goes here. ################################################\n        self.gradInput \u003d gradOutput.dot(self.W)\n        return self.gradInput\n    \n    def accGradParameters(self, input, gradOutput):\n        # Your code goes here. ################################################\n        # self.gradW \u003d ... ; self.gradb \u003d ...\n        self.gradW \u003d gradOutput.T.dot(input)\n        self.gradb \u003d np.sum(gradOutput,axis\u003d0)\n    \n    def zeroGradParameters(self):\n        self.gradW.fill(0)\n        self.gradb.fill(0)\n        \n    def getParameters(self):\n        return [self.W, self.b]\n    \n    def getGradParameters(self):\n        return [self.gradW, self.gradb]\n    \n    def __repr__(self):\n        s \u003d self.W.shape\n        q \u003d \u0027Linear %d -\u003e %d\u0027 %(s[1],s[0])\n        return q"
    },
    {
      "cell_type": "markdown",
      "metadata": {
        "pycharm": {}
      },
      "source": [
        "## 2. SoftMax\n",
        "- input:   **`batch_size x n_feats`**\n",
        "- output: **`batch_size x n_feats`**\n",
        "\n",
        "$\\text{softmax}(x)_i \u003d \\frac{\\exp x_i} {\\sum_j \\exp x_j}$\n",
        "\n",
        "Recall that $\\text{softmax}(x) \u003d\u003d \\text{softmax}(x - \\text{const})$. It makes possible to avoid computing exp() from large argument."
      ]
    },
    {
      "cell_type": "code",
      "execution_count": 3,
      "metadata": {
        "collapsed": true,
        "pycharm": {}
      },
      "outputs": [],
      "source": "class SoftMax(Module):\n    def __init__(self):\n         super(SoftMax, self).__init__()\n    \n    def updateOutput(self, input):\n        # start with normalization for numerical stability\n        self.output \u003d np.subtract(input, input.max(axis\u003d1, keepdims\u003dTrue))\n        ez \u003d np.exp(self.output)\n        return (ez.T / np.sum(ez, axis\u003d1)).T\n    \n    def updateGradInput(self, input, gradOutput):\n        w \u003d self.updateOutput(input)\n        x \u003d gradOutput\n        self.gradInput \u003d np.multiply(x, w) - (np.sum(np.multiply(x, w), axis\u003d1) * w.T).T\n        return self.gradInput\n    \n    def __repr__(self):\n        return \"SoftMax\""
    },
    {
      "cell_type": "markdown",
      "metadata": {
        "pycharm": {}
      },
      "source": [
        "## 3. LogSoftMax\n",
        "- input:   **`batch_size x n_feats`**\n",
        "- output: **`batch_size x n_feats`**\n",
        "\n",
        "$\\text{logsoftmax}(x)_i \u003d \\log\\text{softmax}(x)_i \u003d x_i - \\log {\\sum_j \\exp x_j}$\n",
        "\n",
        "The main goal of this layer is to be used in computation of log-likelihood loss."
      ]
    },
    {
      "cell_type": "code",
      "execution_count": 5,
      "metadata": {
        "collapsed": true,
        "pycharm": {}
      },
      "outputs": [],
      "source": "class LogSoftMax(Module):\n    def __init__(self):\n         super(LogSoftMax, self).__init__()\n    \n    def updateOutput(self, input):\n        # start with normalization for numerical stability\n        self.output \u003d np.subtract(input, input.max(axis\u003d1, keepdims\u003dTrue))\n\n        self.numerator \u003d np.exp(self.output)\n        self.denominator \u003d np.sum(self.numerator, axis\u003d1, keepdims\u003dTrue)\n        self.ez \u003d self.numerator / self.denominator\n\n        self.output \u003d np.subtract(self.output, np.log(self.denominator))\n\n        return self.output\n\n    def updateGradInput(self, input, gradOutput):\n        # w \u003d self.updateOutput(input)\n        # x \u003d gradOutput\n        # self.gradInput \u003d np.subtract(np.multiply(x, w), (np.sum(np.multiply(x, w), axis\u003d1) * w.T).T)\n        \n        self.gradInput \u003d np.empty_like(gradOutput)\n\n        for i in range(input.shape[0]):\n            grad \u003d np.eye(input.shape[1], input.shape[1]) - np.tile(self.ez[i], (input.shape[1], 1))\n            self.gradInput[i] \u003d gradOutput[i].dot(grad)\n\n        return self.gradInput\n    \n    def __repr__(self):\n        return \"LogSoftMax\""
    },
    {
      "cell_type": "markdown",
      "metadata": {
        "pycharm": {}
      },
      "source": [
        "## 4. Batch normalization\n",
        "One of the most significant recent ideas that impacted NNs a lot is [**Batch normalization**](http://arxiv.org/abs/1502.03167). The idea is simple, yet effective: the features should be whitened ($mean \u003d 0$, $std \u003d 1$) all the way through NN. This improves the convergence for deep models letting it train them for days but not weeks. **You are** to implement the first part of the layer: features normalization. The second part (`ChannelwiseScaling` layer) is implemented below.\n",
        "\n",
        "- input:   **`batch_size x n_feats`**\n",
        "- output: **`batch_size x n_feats`**\n",
        "\n",
        "The layer should work as follows. While training (`self.training \u003d\u003d True`) it transforms input as $$y \u003d \\frac{x - \\mu}  {\\sqrt{\\sigma + \\epsilon}}$$\n",
        "where $\\mu$ and $\\sigma$ - mean and variance of feature values in **batch** and $\\epsilon$ is just a small number for numericall stability. Also during training, layer should maintain exponential moving average values for mean and variance: \n",
        "```\n",
        "    self.moving_mean \u003d self.moving_mean * alpha + batch_mean * (1 - alpha)\n",
        "    self.moving_variance \u003d self.moving_variance * alpha + batch_variance * (1 - alpha)\n",
        "```\n",
        "During testing (`self.training \u003d\u003d False`) the layer normalizes input using moving_mean and moving_variance. \n",
        "\n",
        "Note that decomposition of batch normalization on normalization itself and channelwise scaling here is just a common **implementation** choice. In general \"batch normalization\" always assumes normalization + scaling."
      ]
    },
    {
      "cell_type": "code",
      "execution_count": 12,
      "metadata": {
        "collapsed": true,
        "pycharm": {}
      },
      "outputs": [],
      "source": "class BatchNormalization(Module):\n    EPS \u003d 1e-3\n    def __init__(self, alpha \u003d 0.):\n        super(BatchNormalization, self).__init__()\n        self.alpha \u003d alpha\n        self.moving_mean \u003d None \n        self.moving_variance \u003d None\n        \n    def updateOutput(self, input):\n        if self.training:\n            self.batch_variance \u003d np.var(input, axis\u003d0, keepdims\u003dTrue)\n            self.batch_mean \u003d np.mean(input, axis\u003d0, keepdims\u003dTrue)\n            \n            self.output \u003d (input - self.batch_mean) / np.sqrt(self.batch_variance + self.EPS)\n            \n            if self.moving_variance is None:\n                self.moving_variance \u003d self.batch_variance\n            else:\n                self.moving_variance \u003d self.alpha * self.moving_variance + (1 - self.alpha) * self.batch_variance\n            \n            if self.moving_mean is None:\n                self.moving_mean \u003d self.batch_mean\n            else:\n                self.moving_mean \u003d self.alpha * self.moving_mean + (1 - self.alpha) * self.batch_mean\n                \n        else:\n            self.output \u003d (input - self.moving_mean) / np.sqrt(self.moving_variance + self.EPS)\n                \n        return self.output\n    \n    def updateGradInput(self, input, gradOutput):\n        a \u003d np.sum(gradOutput, axis\u003d0)\n        b \u003d self.output * np.sum(gradOutput * self.output, axis\u003d0)\n        self.gradInput \u003d input.shape[0] * gradOutput - a - b\n        \n        self.gradInput *\u003d 1 / (input.shape[0] * np.sqrt(self.batch_variance + self.EPS))\n        return self.gradInput\n    \n    def __repr__(self):\n        return \"BatchNormalization\""
    },
    {
      "cell_type": "code",
      "execution_count": 14,
      "metadata": {
        "collapsed": true,
        "pycharm": {}
      },
      "outputs": [],
      "source": [
        "class ChannelwiseScaling(Module):\n",
        "    \"\"\"\n",
        "       Implements linear transform of input y \u003d \\gamma * x + \\beta\n",
        "       where \\gamma, \\beta - learnable vectors of length x.shape[-1]\n",
        "    \"\"\"\n",
        "    def __init__(self, n_out):\n",
        "        super(ChannelwiseScaling, self).__init__()\n",
        "\n",
        "        stdv \u003d 1./np.sqrt(n_out)\n",
        "        self.gamma \u003d np.random.uniform(-stdv, stdv, size\u003dn_out)\n",
        "        self.beta \u003d np.random.uniform(-stdv, stdv, size\u003dn_out)\n",
        "        \n",
        "        self.gradGamma \u003d np.zeros_like(self.gamma)\n",
        "        self.gradBeta \u003d np.zeros_like(self.beta)\n",
        "\n",
        "    def updateOutput(self, input):\n",
        "        self.output \u003d input * self.gamma + self.beta\n",
        "        return self.output\n",
        "        \n",
        "    def updateGradInput(self, input, gradOutput):\n",
        "        self.gradInput \u003d gradOutput * self.gamma\n",
        "        return self.gradInput\n",
        "    \n",
        "    def accGradParameters(self, input, gradOutput):\n",
        "        self.gradBeta \u003d np.sum(gradOutput, axis\u003d0)\n",
        "        self.gradGamma \u003d np.sum(gradOutput*input, axis\u003d0)\n",
        "    \n",
        "    def zeroGradParameters(self):\n",
        "        self.gradGamma.fill(0)\n",
        "        self.gradBeta.fill(0)\n",
        "        \n",
        "    def getParameters(self):\n",
        "        return [self.gamma, self.beta]\n",
        "    \n",
        "    def getGradParameters(self):\n",
        "        return [self.gradGamma, self.gradBeta]\n",
        "    \n",
        "    def __repr__(self):\n",
        "        return \"ChannelwiseScaling\""
      ]
    },
    {
      "cell_type": "markdown",
      "metadata": {
        "pycharm": {}
      },
      "source": [
        "Practical notes. If BatchNormalization is placed after a linear transformation layer (including dense layer, convolutions, channelwise scaling) that implements function like `y \u003d weight * x + bias`, than bias adding become useless and could be omitted since its effect will be discarded while batch mean subtraction. If BatchNormalization (followed by `ChannelwiseScaling`) is placed before a layer that propagates scale (including ReLU, LeakyReLU) followed by any linear transformation layer than parameter `gamma` in `ChannelwiseScaling` could be freezed since it could be absorbed into the linear transformation layer."
      ]
    },
    {
      "cell_type": "markdown",
      "metadata": {
        "pycharm": {}
      },
      "source": [
        "## 5. Dropout\n",
        "Implement [**dropout**](https://www.cs.toronto.edu/~hinton/absps/JMLRdropout.pdf). The idea and implementation is really simple: just multimply the input by $Bernoulli(p)$ mask. Here $p$ is probability of an element to be zeroed.\n",
        "\n",
        "This has proven to be an effective technique for regularization and preventing the co-adaptation of neurons.\n",
        "\n",
        "While training (`self.training \u003d\u003d True`) it should sample a mask on each iteration (for every batch), zero out elements and multiply elements by $1 / (1 - p)$. The latter is needed for keeping mean values of features close to mean values which will be in test mode. When testing this module should implement identity transform i.e. `self.output \u003d input`.\n",
        "\n",
        "- input:   **`batch_size x n_feats`**\n",
        "- output: **`batch_size x n_feats`**"
      ]
    },
    {
      "cell_type": "code",
      "execution_count": 7,
      "metadata": {
        "pycharm": {}
      },
      "outputs": [],
      "source": "class Dropout(Module):\n    def __init__(self, p\u003d0.5):\n        super(Dropout, self).__init__()\n        \n        self.p \u003d p\n        self.mask \u003d None\n        \n    def updateOutput(self, input):\n        if self.training:\n            self.mask \u003d np.random.binomial(1, 1-self.p, input.shape) / (1 - self.p)\n        else:\n            self.mask \u003d np.ones((input.shape[0], 1))\n            \n        self.output \u003d np.multiply(input, self.mask)\n        return self.output\n    \n    def updateGradInput(self, input, gradOutput):\n        self.gradInput \u003d np.multiply(gradOutput, self.mask)\n        return self.gradInput\n        \n    def __repr__(self):\n        return \"Dropout\""
    },
    {
      "cell_type": "markdown",
      "metadata": {
        "pycharm": {}
      },
      "source": [
        "# Activation functions"
      ]
    },
    {
      "cell_type": "markdown",
      "metadata": {
        "pycharm": {}
      },
      "source": [
        "Here\u0027s the complete example for the **Rectified Linear Unit** non-linearity (aka **ReLU**): "
      ]
    },
    {
      "cell_type": "code",
      "execution_count": 8,
      "metadata": {
        "collapsed": true,
        "pycharm": {}
      },
      "outputs": [],
      "source": [
        "class ReLU(Module):\n",
        "    def __init__(self):\n",
        "         super(ReLU, self).__init__()\n",
        "    \n",
        "    def updateOutput(self, input):\n",
        "        self.output \u003d np.maximum(input, 0)\n",
        "        return self.output\n",
        "    \n",
        "    def updateGradInput(self, input, gradOutput):\n",
        "        self.gradInput \u003d np.multiply(gradOutput , input \u003e 0)\n",
        "        return self.gradInput\n",
        "    \n",
        "    def __repr__(self):\n",
        "        return \"ReLU\""
      ]
    },
    {
      "cell_type": "markdown",
      "metadata": {
        "pycharm": {}
      },
      "source": [
        "## 6. Leaky ReLU\n",
        "Implement [**Leaky Rectified Linear Unit**](http://en.wikipedia.org/wiki%2FRectifier_%28neural_networks%29%23Leaky_ReLUs). Expriment with slope. "
      ]
    },
    {
      "cell_type": "code",
      "execution_count": 9,
      "metadata": {
        "pycharm": {}
      },
      "outputs": [],
      "source": "class LeakyReLU(Module):\n    def __init__(self, slope \u003d 0.03):\n        super(LeakyReLU, self).__init__()\n            \n        self.slope \u003d slope\n        \n    def updateOutput(self, input): \n        self.output \u003d np.maximum(input, self.slope * input)\n        return  self.output\n    \n    def updateGradInput(self, input, gradOutput):\n        self.gradInput \u003d np.multiply(gradOutput, np.maximum(input \u003e 0,self.slope))\n        return self.gradInput\n    \n    def __repr__(self):\n        return \"LeakyReLU\""
    },
    {
      "cell_type": "markdown",
      "metadata": {
        "pycharm": {}
      },
      "source": [
        "## 7. ELU\n",
        "Implement [**Exponential Linear Units**](http://arxiv.org/abs/1511.07289) activations."
      ]
    },
    {
      "cell_type": "code",
      "execution_count": 10,
      "metadata": {
        "collapsed": true,
        "pycharm": {}
      },
      "outputs": [],
      "source": "class ELU(Module):\n    def __init__(self, alpha \u003d 1.0):\n        super(ELU, self).__init__()\n        \n        self.alpha \u003d alpha\n        \n    def updateOutput(self, input):\n        self.output \u003d input.copy()\n        self.output[input \u003c 0] \u003d self.alpha * (np.exp(input[input \u003c 0]) - 1)\n        return  self.output\n    \n    def updateGradInput(self, input, gradOutput):\n        self.gradInput \u003d gradOutput.copy()\n        self.gradInput[input \u003c 0] \u003d np.multiply(gradOutput[input \u003c 0], self.alpha * np.exp(input[input \u003c 0]))\n        return self.gradInput\n    \n    def __repr__(self):\n        return \"ELU\""
    },
    {
      "cell_type": "markdown",
      "metadata": {
        "pycharm": {}
      },
      "source": [
        "## 8. SoftPlus\n",
        "Implement [**SoftPlus**](https://en.wikipedia.org/wiki%2FRectifier_%28neural_networks%29) activations. Look, how they look a lot like ReLU."
      ]
    },
    {
      "cell_type": "code",
      "execution_count": 11,
      "metadata": {
        "collapsed": true,
        "pycharm": {}
      },
      "outputs": [],
      "source": "class SoftPlus(Module):\n    def __init__(self):\n        super(SoftPlus, self).__init__()\n    \n    def updateOutput(self, input):\n        self.output \u003d np.log(1 + np.exp(input))\n        return  self.output\n    \n    def updateGradInput(self, input, gradOutput):\n        self.gradInput \u003d gradOutput / (1 + np.exp(-input))\n        return self.gradInput\n    \n    def __repr__(self):\n        return \"SoftPlus\""
    },
    {
      "cell_type": "markdown",
      "metadata": {
        "pycharm": {}
      },
      "source": [
        "# Criterions"
      ]
    },
    {
      "cell_type": "markdown",
      "metadata": {
        "pycharm": {}
      },
      "source": [
        "Criterions are used to score the models answers. "
      ]
    },
    {
      "cell_type": "code",
      "execution_count": 7,
      "metadata": {
        "pycharm": {}
      },
      "outputs": [],
      "source": [
        "class Criterion(object):\n",
        "    def __init__ (self):\n",
        "        self.output \u003d None\n",
        "        self.gradInput \u003d None\n",
        "        \n",
        "    def forward(self, input, target):\n",
        "        \"\"\"\n",
        "            Given an input and a target, compute the loss function \n",
        "            associated to the criterion and return the result.\n",
        "            \n",
        "            For consistency this function should not be overrided,\n",
        "            all the code goes in `updateOutput`.\n",
        "        \"\"\"\n",
        "        return self.updateOutput(input, target)\n",
        "\n",
        "    def backward(self, input, target):\n",
        "        \"\"\"\n",
        "            Given an input and a target, compute the gradients of the loss function\n",
        "            associated to the criterion and return the result. \n",
        "\n",
        "            For consistency this function should not be overrided,\n",
        "            all the code goes in `updateGradInput`.\n",
        "        \"\"\"\n",
        "        return self.updateGradInput(input, target)\n",
        "    \n",
        "    def updateOutput(self, input, target):\n",
        "        \"\"\"\n",
        "        Function to override.\n",
        "        \"\"\"\n",
        "        return self.output\n",
        "\n",
        "    def updateGradInput(self, input, target):\n",
        "        \"\"\"\n",
        "        Function to override.\n",
        "        \"\"\"\n",
        "        return self.gradInput   \n",
        "\n",
        "    def __repr__(self):\n",
        "        \"\"\"\n",
        "        Pretty printing. Should be overrided in every module if you want \n",
        "        to have readable description. \n",
        "        \"\"\"\n",
        "        return \"Criterion\""
      ]
    },
    {
      "cell_type": "markdown",
      "metadata": {
        "pycharm": {}
      },
      "source": [
        "The **MSECriterion**, which is basic L2 norm usually used for regression, is implemented here for you.\n",
        "- input:   **`batch_size x n_feats`**\n",
        "- target: **`batch_size x n_feats`**\n",
        "- output: **scalar**"
      ]
    },
    {
      "cell_type": "code",
      "execution_count": 8,
      "metadata": {
        "pycharm": {}
      },
      "outputs": [],
      "source": [
        "class MSECriterion(Criterion):\n",
        "    def __init__(self):\n",
        "        super(MSECriterion, self).__init__()\n",
        "        \n",
        "    def updateOutput(self, input, target):   \n",
        "        self.output \u003d np.sum(np.power(input - target,2)) / input.shape[0]\n",
        "        return self.output \n",
        " \n",
        "    def updateGradInput(self, input, target):\n",
        "        self.gradInput  \u003d (input - target) * 2 / input.shape[0]\n",
        "        return self.gradInput\n",
        "\n",
        "    def __repr__(self):\n",
        "        return \"MSECriterion\""
      ]
    },
    {
      "cell_type": "markdown",
      "metadata": {
        "pycharm": {}
      },
      "source": [
        "## 9. Negative LogLikelihood criterion (numerically unstable)\n",
        "You task is to implement the **ClassNLLCriterion**. It should implement [multiclass log loss](http://scikit-learn.org/stable/modules/model_evaluation.html#log-loss). Nevertheless there is a sum over `y` (target) in that formula, \n",
        "remember that targets are one-hot encoded. This fact simplifies the computations a lot. Note, that criterions are the only places, where you divide by batch size. Also there is a small hack with adding small number to probabilities to avoid computing log(0).\n",
        "- input:   **`batch_size x n_feats`** - probabilities\n",
        "- target: **`batch_size x n_feats`** - one-hot representation of ground truth\n",
        "- output: **scalar**\n",
        "\n"
      ]
    },
    {
      "cell_type": "code",
      "execution_count": 10,
      "metadata": {
        "pycharm": {}
      },
      "outputs": [],
      "source": "class ClassNLLCriterionUnstable(Criterion):\n    EPS \u003d 1e-15\n    def __init__(self):\n        a \u003d super(ClassNLLCriterionUnstable, self)\n        super(ClassNLLCriterionUnstable, self).__init__()\n        \n    def updateOutput(self, input, target): \n        \n        # Use this trick to avoid numerical errors\n        input_clamp \u003d np.clip(input, self.EPS, 1 - self.EPS)\n        \n        self.output \u003d - 1/ target.shape[0] * np.sum(target * np.log(input_clamp))\n        return self.output\n\n    def updateGradInput(self, input, target):\n        \n        # Use this trick to avoid numerical errors\n        input_clamp \u003d np.clip(input, self.EPS, 1 - self.EPS)\n                \n        self.gradInput \u003d (-1 / target.shape[0]) * (target / input_clamp)\n        return self.gradInput\n    \n    def __repr__(self):\n        return \"ClassNLLCriterionUnstable\""
    },
    {
      "cell_type": "markdown",
      "metadata": {
        "pycharm": {}
      },
      "source": [
        "## 10. Negative LogLikelihood criterion (numerically stable)\n",
        "- input:   **`batch_size x n_feats`** - log probabilities\n",
        "- target: **`batch_size x n_feats`** - one-hot representation of ground truth\n",
        "- output: **scalar**\n",
        "\n",
        "Task is similar to the previous one, but now the criterion input is the output of log-softmax layer. This decomposition allows us to avoid problems with computation of forward and backward of log()."
      ]
    },
    {
      "cell_type": "code",
      "execution_count": 11,
      "metadata": {
        "collapsed": true,
        "pycharm": {}
      },
      "outputs": [],
      "source": "class ClassNLLCriterion(Criterion):\n    def __init__(self):\n        a \u003d super(ClassNLLCriterion, self)\n        super(ClassNLLCriterion, self).__init__()\n        \n    def updateOutput(self, input, target): \n        self.output \u003d - np.sum(input * target) / input.shape[0]\n        return self.output\n\n    def updateGradInput(self, input, target):\n        self.gradInput \u003d - target / input.shape[0]\n        return self.gradInput\n    \n    def __repr__(self):\n        return \"ClassNLLCriterion\""
    },
    {
      "cell_type": "markdown",
      "metadata": {
        "pycharm": {}
      },
      "source": [
        "# Optimizers"
      ]
    },
    {
      "cell_type": "markdown",
      "metadata": {
        "pycharm": {}
      },
      "source": [
        "### SGD optimizer with momentum\n",
        "- `variables` - list of lists of variables (one list per layer)\n",
        "- `gradients` - list of lists of current gradients (same structure as for `variables`, one array for each var)\n",
        "- `config` - dict with optimization parameters (`learning_rate` and `momentum`)\n",
        "- `state` - dict with optimizator state (used to save accumulated gradients)"
      ]
    },
    {
      "cell_type": "code",
      "execution_count": null,
      "metadata": {
        "pycharm": {}
      },
      "outputs": [],
      "source": [
        "def sgd_momentum(variables, gradients, config, state):  \n",
        "    # \u0027variables\u0027 and \u0027gradients\u0027 have complex structure, accumulated_grads will be stored in a simpler one\n",
        "    state.setdefault(\u0027accumulated_grads\u0027, {})\n",
        "    \n",
        "    var_index \u003d 0 \n",
        "    for current_layer_vars, current_layer_grads in zip(variables, gradients): \n",
        "        for current_var, current_grad in zip(current_layer_vars, current_layer_grads):\n",
        "            \n",
        "            old_grad \u003d state[\u0027accumulated_grads\u0027].setdefault(var_index, np.zeros_like(current_grad))\n",
        "            \n",
        "            np.add(config[\u0027momentum\u0027] * old_grad, config[\u0027learning_rate\u0027] * current_grad, out\u003dold_grad)\n",
        "            \n",
        "            current_var -\u003d old_grad\n",
        "            var_index +\u003d 1     "
      ]
    },
    {
      "cell_type": "markdown",
      "metadata": {
        "pycharm": {}
      },
      "source": [
        "## 11. [Adam](https://arxiv.org/pdf/1412.6980.pdf) optimizer\n",
        "- `variables` - list of lists of variables (one list per layer)\n",
        "- `gradients` - list of lists of current gradients (same structure as for `variables`, one array for each var)\n",
        "- `config` - dict with optimization parameters (`learning_rate`, `beta1`, `beta2`, `epsilon`)\n",
        "- `state` - dict with optimizator state (used to save 1st and 2nd moment for vars)\n",
        "\n",
        "Formulas for optimizer:\n",
        "\n",
        "Current step learning rate: $$\\text{lr}_t \u003d \\text{learning_rate} * \\frac{\\sqrt{1-\\beta_2^t}} {1-\\beta_1^t}$$\n",
        "First moment of var: $$\\mu_t \u003d \\beta_1 * \\mu_{t-1} + (1 - \\beta_1)*g$$ \n",
        "Second moment of var: $$v_t \u003d \\beta_2 * v_{t-1} + (1 - \\beta_2)*g*g$$\n",
        "New values of var: $$\\text{variable} \u003d \\text{variable} - \\text{lr}_t * \\frac{m_t}{\\sqrt{v_t} + \\epsilon}$$"
      ]
    },
    {
      "cell_type": "code",
      "execution_count": 34,
      "metadata": {
        "pycharm": {}
      },
      "outputs": [],
      "source": "def adam_optimizer(variables, gradients, config, state):  \n    # \u0027variables\u0027 and \u0027gradients\u0027 have complex structure, accumulated_grads will be stored in a simpler one\n    state.setdefault(\u0027m\u0027, {})  # first moment vars\n    state.setdefault(\u0027v\u0027, {})  # second moment vars\n    state.setdefault(\u0027t\u0027, 0)   # timestamp\n    state[\u0027t\u0027] +\u003d 1\n    for k in [\u0027learning_rate\u0027, \u0027beta1\u0027, \u0027beta2\u0027, \u0027epsilon\u0027]:\n        assert k in config, config.keys()\n    \n    var_index \u003d 0 \n    lr_t \u003d config[\u0027learning_rate\u0027] * np.sqrt(1 - config[\u0027beta2\u0027]**state[\u0027t\u0027]) / (1 - config[\u0027beta1\u0027]**state[\u0027t\u0027])\n    for current_layer_vars, current_layer_grads in zip(variables, gradients): \n        for current_var, current_grad in zip(current_layer_vars, current_layer_grads):\n            var_first_moment \u003d state[\u0027m\u0027].setdefault(var_index, np.zeros_like(current_grad))\n            var_second_moment \u003d state[\u0027v\u0027].setdefault(var_index, np.zeros_like(current_grad))\n            \n            np.add(config[\u0027beta1\u0027] * var_first_moment, (1 - config[\u0027beta1\u0027]) * current_grad, out\u003dvar_first_moment)\n            np.add(config[\u0027beta2\u0027] * var_second_moment, (1 - config[\u0027beta2\u0027]) * current_grad * current_grad, out\u003dvar_second_moment)\n            current_var -\u003d lr_t * var_first_moment / (np.sqrt(var_second_moment) + config[\u0027epsilon\u0027])\n            \n            # small checks that you\u0027ve updated the state; use np.add for rewriting np.arrays values\n            assert var_first_moment is state[\u0027m\u0027].get(var_index)\n            assert var_second_moment is state[\u0027v\u0027].get(var_index)\n            var_index +\u003d 1\n"
    },
    {
      "cell_type": "markdown",
      "metadata": {
        "pycharm": {}
      },
      "source": [
        "# Layers for advanced track homework\n",
        "You **don\u0027t need** to implement it if you are working on `homework_main-basic.ipynb`"
      ]
    },
    {
      "cell_type": "markdown",
      "metadata": {
        "pycharm": {}
      },
      "source": [
        "## 12. Conv2d [Advanced]\n",
        "- input:   **`batch_size x in_channels x h x w`**\n",
        "- output: **`batch_size x out_channels x h x w`**\n",
        "\n",
        "You should implement something like pytorch `Conv2d` layer with `stride\u003d1` and zero-padding outside of image using `scipy.signal.correlate` function.\n",
        "\n",
        "Practical notes:\n",
        "- While the layer name is \"convolution\", the most of neural network frameworks (including tensorflow and pytorch) implement operation that is called [correlation](https://en.wikipedia.org/wiki/Cross-correlation#Cross-correlation_of_deterministic_signals) in signal processing theory. So **don\u0027t use** `scipy.signal.convolve` since it implements [convolution](https://en.wikipedia.org/wiki/Convolution#Discrete_convolution) in terms of signal processing.\n",
        "- It may be convenient to use `skimage.util.pad` for zero-padding.\n",
        "- It\u0027s rather ok to implement convolution over 4d array using 2 nested loops: one over batch size dimension and another one over output filters dimension\n",
        "- Having troubles with understanding how to implement the layer? \n",
        " - Check the last year video of lecture 3 (starting from ~1:14:20)\n",
        " - May the google be with you"
      ]
    },
    {
      "cell_type": "code",
      "execution_count": 18,
      "metadata": {
        "pycharm": {}
      },
      "outputs": [],
      "source": [
        "import scipy as sp\n",
        "import scipy.signal\n",
        "import skimage\n",
        "\n",
        "class Conv2d(Module):\n",
        "    def __init__(self, in_channels, out_channels, kernel_size):\n",
        "        super(Conv2d, self).__init__()\n",
        "        assert kernel_size % 2 \u003d\u003d 1, kernel_size\n",
        "       \n",
        "        stdv \u003d 1./np.sqrt(in_channels)\n",
        "        self.W \u003d np.random.uniform(-stdv, stdv, size \u003d (out_channels, in_channels, kernel_size, kernel_size))\n",
        "        self.b \u003d np.random.uniform(-stdv, stdv, size\u003d(out_channels,))\n",
        "        self.in_channels \u003d in_channels\n",
        "        self.out_channels \u003d out_channels\n",
        "        self.kernel_size \u003d kernel_size\n",
        "        \n",
        "        self.gradW \u003d np.zeros_like(self.W)\n",
        "        self.gradb \u003d np.zeros_like(self.b)\n",
        "        \n",
        "    def updateOutput(self, input):\n",
        "        pad_size \u003d self.kernel_size // 2\n",
        "        # YOUR CODE ##############################\n",
        "        # 1. zero-pad the input array\n",
        "        # 2. compute convolution using scipy.signal.correlate(... , mode\u003d\u0027valid\u0027)\n",
        "        # 3. add bias value\n",
        "        \n",
        "        # self.output \u003d ...\n",
        "        \n",
        "        return self.output\n",
        "    \n",
        "    def updateGradInput(self, input, gradOutput):\n",
        "        pad_size \u003d self.kernel_size // 2\n",
        "        # YOUR CODE ##############################\n",
        "        # 1. zero-pad the gradOutput\n",
        "        # 2. compute \u0027self.gradInput\u0027 value using scipy.signal.correlate(... , mode\u003d\u0027valid\u0027)\n",
        "        \n",
        "        # self.gradInput \u003d ...\n",
        "        \n",
        "        return self.gradInput\n",
        "    \n",
        "    def accGradParameters(self, input, gradOutput):\n",
        "        pad_size \u003d self.kernel_size // 2\n",
        "        # YOUR CODE #############\n",
        "        # 1. zero-pad the input\n",
        "        # 2. compute \u0027self.gradW\u0027 using scipy.signal.correlate(... , mode\u003d\u0027valid\u0027)\n",
        "        # 3. compute \u0027self.gradb\u0027 - formulas like in Linear of ChannelwiseScaling layers\n",
        "        \n",
        "        # self.gradW \u003d ...\n",
        "        # self.gradb \u003d ...\n",
        "        pass\n",
        "    \n",
        "    def zeroGradParameters(self):\n",
        "        self.gradW.fill(0)\n",
        "        self.gradb.fill(0)\n",
        "        \n",
        "    def getParameters(self):\n",
        "        return [self.W, self.b]\n",
        "    \n",
        "    def getGradParameters(self):\n",
        "        return [self.gradW, self.gradb]\n",
        "    \n",
        "    def __repr__(self):\n",
        "        s \u003d self.W.shape\n",
        "        q \u003d \u0027Conv2d %d -\u003e %d\u0027 %(s[1],s[0])\n",
        "        return q"
      ]
    },
    {
      "cell_type": "markdown",
      "metadata": {
        "pycharm": {}
      },
      "source": [
        "## 13. MaxPool2d [Advanced]\n",
        "- input:   **`batch_size x n_input_channels x h x w`**\n",
        "- output: **`batch_size x n_output_channels x h // kern_size x w // kern_size`**\n",
        "\n",
        "You are to implement simplified version of pytorch `MaxPool2d` layer with stride \u003d kernel_size. Please note, that it\u0027s not a common case that stride \u003d kernel_size: in AlexNet and ResNet kernel_size for max-pooling was set to 3, while stride was set to 2. We introduce this restriction to make implementation simplier.\n",
        "\n",
        "Practical notes:\n",
        "- During forward pass what you need to do is just to reshape the input tensor to `[n, c, h / kern_size, kern_size, w / kern_size, kern_size]`, swap two axes and take maximums over the last two dimensions. Reshape + axes swap is sometimes called space-to-batch transform.\n",
        "- During backward pass you need to place the gradients in positions of maximal values taken during the forward pass\n",
        "- In real frameworks the indices of maximums are stored in memory during the forward pass. It is cheaper than to keep the layer input in memory and recompute the maximums."
      ]
    },
    {
      "cell_type": "code",
      "execution_count": 19,
      "metadata": {
        "pycharm": {}
      },
      "outputs": [],
      "source": [
        "class MaxPool2d(Module):\n",
        "    def __init__(self, kernel_size):\n",
        "        super(MaxPool2d, self).__init__()\n",
        "        self.kernel_size \u003d kernel_size\n",
        "        self.gradInput \u003d None\n",
        "                    \n",
        "    def updateOutput(self, input):\n",
        "        input_h, input_w \u003d input.shape[-2:]\n",
        "        # your may remove these asserts and implement MaxPool2d with padding\n",
        "        assert input_h % self.kernel_size \u003d\u003d 0  \n",
        "        assert input_w % self.kernel_size \u003d\u003d 0\n",
        "        \n",
        "        # YOUR CODE #############################\n",
        "        # self.output \u003d ...\n",
        "        # self.max_indices \u003d ...\n",
        "        return self.output\n",
        "    \n",
        "    def updateGradInput(self, input, gradOutput):\n",
        "        # YOUR CODE #############################\n",
        "        # self.gradInput \u003d ...\n",
        "        return self.gradInput\n",
        "    \n",
        "    def __repr__(self):\n",
        "        q \u003d \u0027MaxPool2d, kern %d, stride %d\u0027 %(self.kernel_size, self.kernel_size)\n",
        "        return q"
      ]
    },
    {
      "cell_type": "markdown",
      "metadata": {
        "pycharm": {}
      },
      "source": [
        "### Flatten layer\n",
        "Just reshapes inputs and gradients. It\u0027s usually used as proxy layer between Conv2d and Linear."
      ]
    },
    {
      "cell_type": "code",
      "execution_count": 35,
      "metadata": {
        "pycharm": {}
      },
      "outputs": [],
      "source": [
        "class Flatten(Module):\n",
        "    def __init__(self):\n",
        "         super(Flatten, self).__init__()\n",
        "    \n",
        "    def updateOutput(self, input):\n",
        "        self.output \u003d input.reshape(len(input), -1)\n",
        "        return self.output\n",
        "    \n",
        "    def updateGradInput(self, input, gradOutput):\n",
        "        self.gradInput \u003d gradOutput.reshape(input.shape)\n",
        "        return self.gradInput\n",
        "    \n",
        "    def __repr__(self):\n",
        "        return \"Flatten\""
      ]
    },
    {
      "cell_type": "code",
      "execution_count": null,
      "metadata": {
        "collapsed": true,
        "pycharm": {}
      },
      "outputs": [],
      "source": []
    }
  ],
  "metadata": {
    "kernelspec": {
      "display_name": "Py3 research env",
      "language": "python",
      "name": "py3_research"
    },
    "language_info": {
      "codemirror_mode": {
        "name": "ipython",
        "version": 3
      },
      "file_extension": ".py",
      "mimetype": "text/x-python",
      "name": "python",
      "nbconvert_exporter": "python",
      "pygments_lexer": "ipython3",
      "version": "3.6.7"
    }
  },
  "nbformat": 4,
  "nbformat_minor": 1
}