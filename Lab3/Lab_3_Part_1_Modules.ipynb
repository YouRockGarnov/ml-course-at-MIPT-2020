{
  "nbformat": 4,
  "nbformat_minor": 0,
  "metadata": {
    "kernelspec": {
      "display_name": "Python 3",
      "language": "python",
      "name": "python3"
    },
    "language_info": {
      "codemirror_mode": {
        "name": "ipython",
        "version": 3
      },
      "file_extension": ".py",
      "mimetype": "text/x-python",
      "name": "python",
      "nbconvert_exporter": "python",
      "pygments_lexer": "ipython3",
      "version": "3.6.4"
    },
    "colab": {
      "name": "main_notebook.ipynb",
      "provenance": [],
      "collapsed_sections": [],
      "toc_visible": true
    },
    "accelerator": "GPU"
  },
  "cells": [
    {
      "cell_type": "markdown",
      "metadata": {
        "pycharm": {},
        "id": "rrvXRvthMfj3",
        "colab_type": "text"
      },
      "source": [
        "## Practice: Basic Artificial Neural Networks\n",
        "Credits: this notebook belongs to [Practical DL](https://docs.google.com/forms/d/e/1FAIpQLScvrVtuwrHSlxWqHnLt1V-_7h2eON_mlRR6MUb3xEe5x9LuoA/viewform?usp=sf_link) course by Yandex School of Data Analysis.\n",
        "\n",
        "We will start working with neural networks on the practice session. Your homework will be to finish the implementation of the layers."
      ]
    },
    {
      "cell_type": "markdown",
      "metadata": {
        "pycharm": {},
        "id": "2bKVCCzsMfj4",
        "colab_type": "text"
      },
      "source": [
        "Our goal is simple, yet an actual implementation may take some time :). We are going to write an Artificial Neural Network (almost) from scratch. The software design was heavily inspired by [PyTorch](http://pytorch.org) which is the main framework of our course "
      ]
    },
    {
      "cell_type": "markdown",
      "metadata": {
        "pycharm": {},
        "id": "ZVBXMXWuMfj9",
        "colab_type": "text"
      },
      "source": [
        "Speaking about the homework (once again, it will be really similar to this seminar), it requires sending **multiple** files, please do not forget to include all the files when sending to TA. The list of files:\n",
        "- This notebook\n",
        "- modules.ipynb with all blocks implemented (except maybe `Conv2d` and `MaxPool2d` layers implementation which are part of 'advanced' version of this homework)"
      ]
    },
    {
      "cell_type": "code",
      "metadata": {
        "pycharm": {
          "is_executing": false
        },
        "id": "qiQesn4fMfj-",
        "colab_type": "code",
        "colab": {}
      },
      "source": [
        "%matplotlib inline\n",
        "from time import time, sleep\n",
        "import numpy as np\n",
        "import matplotlib.pyplot as plt\n",
        "from IPython import display"
      ],
      "execution_count": 0,
      "outputs": []
    },
    {
      "cell_type": "markdown",
      "metadata": {
        "pycharm": {},
        "id": "6aMNcGO9MfkE",
        "colab_type": "text"
      },
      "source": [
        "# Framework"
      ]
    },
    {
      "cell_type": "markdown",
      "metadata": {
        "pycharm": {},
        "id": "lVN2TZzGMfkF",
        "colab_type": "text"
      },
      "source": [
        "Implement everything in `modules.ipynb`. Read all the comments thoughtfully to ease the pain. Please try not to change the prototypes.\n",
        "\n",
        "Do not forget, that each module should return **AND** store `output` and `gradInput`.\n",
        "\n",
        "The typical assumption is that `module.backward` is always executed after `module.forward`,\n",
        "so `output` is stored, this would be useful for `SoftMax`. "
      ]
    },
    {
      "cell_type": "markdown",
      "metadata": {
        "pycharm": {},
        "id": "xVCBP83zMfkG",
        "colab_type": "text"
      },
      "source": [
        "### Tech note\n",
        "Prefer using `np.multiply`, `np.add`, `np.divide`, `np.subtract` instead of `*`,`+`,`/`,`-` for better memory handling.\n",
        "\n",
        "Example: suppose you allocated a variable \n",
        "\n",
        "```\n",
        "a = np.zeros(...)\n",
        "```\n",
        "So, instead of\n",
        "```\n",
        "a = b + c  # will be reallocated, GC needed to free\n",
        "``` \n",
        "You can use: \n",
        "```\n",
        "np.add(b,c,out = a) # puts result in `a`\n",
        "```"
      ]
    },
    {
      "cell_type": "code",
      "metadata": {
        "pycharm": {
          "is_executing": false
        },
        "id": "12bXVOikMfkG",
        "colab_type": "code",
        "colab": {}
      },
      "source": [
        "# (re-)load layers\n",
        "%run modules.ipynb"
      ],
      "execution_count": 0,
      "outputs": []
    },
    {
      "cell_type": "markdown",
      "metadata": {
        "pycharm": {},
        "id": "EW8zMe_VMfkL",
        "colab_type": "text"
      },
      "source": [
        "# Toy example"
      ]
    },
    {
      "cell_type": "markdown",
      "metadata": {
        "pycharm": {},
        "id": "yDd2k0vPMfkM",
        "colab_type": "text"
      },
      "source": [
        "Use this example to debug your code, start with logistic regression and then test other layers. You do not need to change anything here. This code is provided for you to test the layers. Also it is easy to use this code in MNIST task."
      ]
    },
    {
      "cell_type": "code",
      "metadata": {
        "scrolled": false,
        "pycharm": {},
        "id": "UIHzykn8MfkM",
        "colab_type": "code",
        "colab": {
          "base_uri": "https://localhost:8080/",
          "height": 282
        },
        "outputId": "3bc04f2e-7234-4ee0-d82d-8262f852ba69"
      },
      "source": [
        "# Generate some data\n",
        "N = 500\n",
        "\n",
        "X1 = np.random.randn(N,2) + np.array([2,2])\n",
        "X2 = np.random.randn(N,2) + np.array([-2,-2])\n",
        "\n",
        "Y = np.concatenate([np.ones(N),np.zeros(N)])[:,None]\n",
        "Y = np.hstack([Y, 1-Y])\n",
        "\n",
        "X = np.vstack([X1,X2])\n",
        "plt.scatter(X[:,0],X[:,1], c = Y[:,0], edgecolors= 'none')"
      ],
      "execution_count": 3,
      "outputs": [
        {
          "output_type": "execute_result",
          "data": {
            "text/plain": [
              "<matplotlib.collections.PathCollection at 0x7ff36e2044a8>"
            ]
          },
          "metadata": {
            "tags": []
          },
          "execution_count": 3
        },
        {
          "output_type": "display_data",
          "data": {
            "image/png": "[encoded data removed]",
            "text/plain": [
              "<Figure size 432x288 with 1 Axes>"
            ]
          },
          "metadata": {
            "tags": [],
            "needs_background": "light"
          }
        }
      ]
    },
    {
      "cell_type": "markdown",
      "metadata": {
        "pycharm": {},
        "id": "c4Sj2RgiMfkQ",
        "colab_type": "text"
      },
      "source": [
        "Define a **logistic regression** for debugging. "
      ]
    },
    {
      "cell_type": "code",
      "metadata": {
        "pycharm": {},
        "id": "kpjDCd8fMfkQ",
        "colab_type": "code",
        "colab": {
          "base_uri": "https://localhost:8080/",
          "height": 67
        },
        "outputId": "f373519c-b6d9-48c1-a2ad-4edb075a5740"
      },
      "source": [
        "net = Sequential()\n",
        "net.add(Linear(2, 2))\n",
        "net.add(LogSoftMax())\n",
        "\n",
        "criterion = ClassNLLCriterion()\n",
        "\n",
        "print(net)\n",
        "\n",
        "# Test something like that then \n",
        "\n",
        "# net = Sequential()\n",
        "# net.add(Linear(2, 4))\n",
        "# net.add(ReLU())\n",
        "# net.add(Linear(4, 2))\n",
        "# net.add(LogSoftMax())"
      ],
      "execution_count": 4,
      "outputs": [
        {
          "output_type": "stream",
          "text": [
            "Linear 2 -> 2\n",
            "LogSoftMax\n",
            "\n"
          ],
          "name": "stdout"
        }
      ]
    },
    {
      "cell_type": "markdown",
      "metadata": {
        "pycharm": {},
        "id": "KIFf15K-MfkU",
        "colab_type": "text"
      },
      "source": [
        "Start with batch_size = 1000 to make sure every step lowers the loss, then try stochastic version."
      ]
    },
    {
      "cell_type": "code",
      "metadata": {
        "pycharm": {},
        "id": "hZmOH3fuMfkV",
        "colab_type": "code",
        "colab": {}
      },
      "source": [
        "# Iptimizer params\n",
        "optimizer_config = {'learning_rate' : 1e-1, 'momentum': 0.9}\n",
        "optimizer_state = {}\n",
        "\n",
        "# Looping params\n",
        "n_epoch = 20\n",
        "batch_size = 128"
      ],
      "execution_count": 0,
      "outputs": []
    },
    {
      "cell_type": "code",
      "metadata": {
        "pycharm": {},
        "id": "_Of5HFtWMfkY",
        "colab_type": "code",
        "colab": {}
      },
      "source": [
        "# batch generator\n",
        "def get_batches(dataset, batch_size):\n",
        "    X, Y = dataset\n",
        "    n_samples = X.shape[0]\n",
        "        \n",
        "    # Shuffle at the start of epoch\n",
        "    indices = np.arange(n_samples)\n",
        "    np.random.shuffle(indices)\n",
        "    \n",
        "    for start in range(0, n_samples, batch_size):\n",
        "        end = min(start + batch_size, n_samples)\n",
        "        \n",
        "        batch_idx = indices[start:end]\n",
        "    \n",
        "        yield X[batch_idx], Y[batch_idx]"
      ],
      "execution_count": 0,
      "outputs": []
    },
    {
      "cell_type": "markdown",
      "metadata": {
        "pycharm": {},
        "id": "LzUus8koMfkb",
        "colab_type": "text"
      },
      "source": [
        "### Train"
      ]
    },
    {
      "cell_type": "markdown",
      "metadata": {
        "pycharm": {},
        "id": "XN4mxb0ZMfkb",
        "colab_type": "text"
      },
      "source": [
        "Basic training loop. Examine it."
      ]
    },
    {
      "cell_type": "code",
      "metadata": {
        "scrolled": false,
        "pycharm": {},
        "id": "qpVfl0LFMfkc",
        "colab_type": "code",
        "colab": {
          "base_uri": "https://localhost:8080/",
          "height": 421
        },
        "outputId": "0342b731-7626-48c8-bede-04f08b1fe3bf"
      },
      "source": [
        "loss_history = []\n",
        "\n",
        "for i in range(n_epoch):\n",
        "    for x_batch, y_batch in get_batches((X, Y), batch_size):\n",
        "        \n",
        "        net.zeroGradParameters()\n",
        "        \n",
        "        # Forward\n",
        "        predictions = net.forward(x_batch)\n",
        "        loss = criterion.forward(predictions, y_batch)\n",
        "    \n",
        "        # Backward\n",
        "        dp = criterion.backward(predictions, y_batch)\n",
        "        net.backward(x_batch, dp)\n",
        "        \n",
        "        # Update weights\n",
        "        sgd_momentum(net.getParameters(), \n",
        "                     net.getGradParameters(), \n",
        "                     optimizer_config,\n",
        "                     optimizer_state)      \n",
        "        \n",
        "        loss_history.append(loss)\n",
        "\n",
        "    # Visualize\n",
        "    display.clear_output(wait=True)\n",
        "    plt.figure(figsize=(8, 6))\n",
        "        \n",
        "    plt.title(\"Training loss\")\n",
        "    plt.xlabel(\"#iteration\")\n",
        "    plt.ylabel(\"loss\")\n",
        "    plt.plot(loss_history, 'b')\n",
        "    plt.show()\n",
        "    \n",
        "    print('Current loss: %f' % loss)    "
      ],
      "execution_count": 7,
      "outputs": [
        {
          "output_type": "display_data",
          "data": {
            "image/png": "[encoded data removed]",
            "text/plain": [
              "<Figure size 576x432 with 1 Axes>"
            ]
          },
          "metadata": {
            "tags": [],
            "needs_background": "light"
          }
        },
        {
          "output_type": "stream",
          "text": [
            "Current loss: 0.000916\n"
          ],
          "name": "stdout"
        }
      ]
    },
    {
      "cell_type": "markdown",
      "metadata": {
        "pycharm": {},
        "id": "H1GJ_pa7Mfke",
        "colab_type": "text"
      },
      "source": [
        "# Digit classification "
      ]
    },
    {
      "cell_type": "markdown",
      "metadata": {
        "pycharm": {},
        "id": "Lepsolr5Mfkf",
        "colab_type": "text"
      },
      "source": [
        "We are using old good [MNIST](http://yann.lecun.com/exdb/mnist/) as our dataset."
      ]
    },
    {
      "cell_type": "code",
      "metadata": {
        "pycharm": {},
        "id": "WK7-LeKdMfkf",
        "colab_type": "code",
        "colab": {}
      },
      "source": [
        "import mnist_dataset\n",
        "X_train, y_train, X_val, y_val, X_test, y_test = mnist_dataset.load_dataset()"
      ],
      "execution_count": 0,
      "outputs": []
    },
    {
      "cell_type": "markdown",
      "metadata": {
        "pycharm": {},
        "id": "92EQMhnIMfki",
        "colab_type": "text"
      },
      "source": [
        "One-hot encode the labels first."
      ]
    },
    {
      "cell_type": "code",
      "metadata": {
        "pycharm": {},
        "id": "3h5o6ZBVMfkj",
        "colab_type": "code",
        "colab": {}
      },
      "source": [
        "import tqdm\n",
        "from sklearn.metrics import accuracy_score\n",
        "from sklearn.preprocessing import LabelEncoder, OneHotEncoder"
      ],
      "execution_count": 0,
      "outputs": []
    },
    {
      "cell_type": "code",
      "metadata": {
        "id": "8ZMfXx7ndzQU",
        "colab_type": "code",
        "colab": {}
      },
      "source": [
        "# one_hot_encoder = OneHotEncoder().fit(y_train.reshape((-1, 1)))\n",
        "from sklearn.multiclass import LabelBinarizer\n",
        "lb = LabelBinarizer()\n",
        "\n",
        "lb_train = lb.fit(y_train)#.reshape(-1, 1))\n",
        "y_train = lb_train.transform(y_train)\n",
        "\n",
        "lb = LabelBinarizer()\n",
        "lb_test = lb.fit(y_test)\n",
        "y_test = lb_test.transform(y_test)\n",
        "\n",
        "lb = LabelBinarizer()\n",
        "lb_val = lb.fit(y_val)#((-1, 1)))\n",
        "y_val = lb_val.transform(y_val)#((-1, 1)))"
      ],
      "execution_count": 0,
      "outputs": []
    },
    {
      "cell_type": "markdown",
      "metadata": {
        "pycharm": {},
        "id": "IIDlEgLWMfkw",
        "colab_type": "text"
      },
      "source": [
        "- **Compare** `ReLU`, `ELU`, `LeakyReLU`, `SoftPlus` activation functions. \n",
        "You would better pick the best optimizer params for each of them, but it is overkill for now. Use an architecture of your choice for the comparison.\n",
        "- **Try** inserting `BatchNormalization` (folowed by `ChannelwiseScaling`) between `Linear` module and activation functions.\n",
        "- Plot the losses both from activation functions comparison and `BatchNormalization` comparison on one plot. Please find a scale (log?) when the lines are distinguishable, do not forget about naming the axes, the plot should be goodlooking.\n",
        "- Plot the losses for two networks: one trained by momentum_sgd, another one trained by Adam. Which one performs better?\n",
        "- Hint: good logloss for MNIST should be around 0.5. "
      ]
    },
    {
      "cell_type": "code",
      "metadata": {
        "id": "JWDcVjno9d1s",
        "colab_type": "code",
        "colab": {}
      },
      "source": [
        "\n",
        "# Iptimizer params\n",
        "optimizer_config = {'learning_rate' : 1e-2, 'momentum': 0.9}\n",
        "optimizer_state = {}\n",
        "\n",
        "criterion = ClassNLLCriterion()\n",
        "\n",
        "# Looping params\n",
        "n_epoch = 20\n",
        "batch_size = 1024"
      ],
      "execution_count": 0,
      "outputs": []
    },
    {
      "cell_type": "markdown",
      "metadata": {
        "id": "e97C37fBT21q",
        "colab_type": "text"
      },
      "source": [
        "Сравним разные функции активации"
      ]
    },
    {
      "cell_type": "code",
      "metadata": {
        "id": "v75LyC2ceszz",
        "colab_type": "code",
        "colab": {
          "base_uri": "https://localhost:8080/",
          "height": 1000
        },
        "outputId": "beddd11e-42d1-4c70-8461-88ea3c809df9"
      },
      "source": [
        "losses = []\n",
        "\n",
        "for activation in [ReLU, ELU, LeakyReLU, SoftPlus]:\n",
        "    loss_log = []\n",
        "    acc_log = []\n",
        "    print(activation)\n",
        "\n",
        "    for i in range(20):\n",
        "        print(\"Epoch {} started...\".format(i))\n",
        "        \n",
        "        net = Sequential()\n",
        "\n",
        "        net.add(Flatten())\n",
        "        net.add(Linear(28 * 28, 50))\n",
        "        # net.add(BatchNormalization())\n",
        "        net.add(activation())\n",
        "        # net.add(Dropout())\n",
        "        net.add(Linear(50, 10))\n",
        "        net.add(LogSoftMax())\n",
        "\n",
        "        net.train()\n",
        "        epoch_losses = []\n",
        "        for x_batch, y_batch in (get_batches((X_train, y_train), batch_size)):\n",
        "      \n",
        "            net.zeroGradParameters()\n",
        "            \n",
        "            # Forward\n",
        "            predictions = net.forward(x_batch)\n",
        "            loss = criterion.forward(predictions, y_batch)\n",
        "        \n",
        "            # Backward\n",
        "            dp = criterion.backward(predictions, y_batch)\n",
        "            net.backward(x_batch, dp)\n",
        "            \n",
        "            # Update weights\n",
        "            sgd_momentum(net.getParameters(), \n",
        "                        net.getGradParameters(), \n",
        "                        optimizer_config,\n",
        "                        optimizer_state)      \n",
        "            \n",
        "            epoch_losses.append(loss)\n",
        "        \n",
        "        avg_loss = np.mean(epoch_losses)\n",
        "        loss_log.append(avg_loss)\n",
        "        print(\"Epoch {} mean loss: {:.3f}\".format(i, avg_loss))\n",
        "        \n",
        "        net.evaluate()\n",
        "        y_true = []\n",
        "        y_pred = []\n",
        "        for x_batch, y_batch in (get_batches((X_val, y_val), batch_size)):\n",
        "            # print(len(x_batch), len(y_batch))\n",
        "\n",
        "            predictions = net.forward(x_batch)\n",
        "            # print(len(list(np.where(predictions == predictions.max(axis=1, keepdims=True), 1, 0))))\n",
        "            y_pred += list(np.where(predictions == predictions.max(axis=1, keepdims=True), 1, 0))\n",
        "            # print(len(list(y_batch)))\n",
        "            y_true += list(y_batch)\n",
        "            \n",
        "        # print(y_true)\n",
        "        # print(y_pred)\n",
        "        acc_log.append(accuracy_score(y_true, y_pred))\n",
        "        print(\"Validation {} epoch accuracy: {:.3f}\".format(i, accuracy_score(y_true, y_pred)))\n",
        "  \n",
        "    # plt.title('Accuracy')\n",
        "    # plt.ylabel('acc')\n",
        "    # plt.xlabel('iter')\n",
        "    # plt.plot(acc_log, label=str(activation))\n",
        "    # plt.legend()\n",
        "\n",
        "    plt.title('Loss')\n",
        "    plt.ylabel('loss')\n",
        "    plt.xlabel('iter')\n",
        "    plt.plot(loss_log, label=str(activation))\n",
        "    plt.legend()"
      ],
      "execution_count": 13,
      "outputs": [
        {
          "output_type": "stream",
          "text": [
            "<class '__main__.ReLU'>\n",
            "Epoch 0 started...\n",
            "Epoch 0 mean loss: 1.955\n",
            "Validation 0 epoch accuracy: 0.750\n",
            "Epoch 1 started...\n",
            "Epoch 1 mean loss: 1.978\n",
            "Validation 1 epoch accuracy: 0.783\n",
            "Epoch 2 started...\n",
            "Epoch 2 mean loss: 1.929\n",
            "Validation 2 epoch accuracy: 0.764\n",
            "Epoch 3 started...\n",
            "Epoch 3 mean loss: 1.939\n",
            "Validation 3 epoch accuracy: 0.758\n",
            "Epoch 4 started...\n",
            "Epoch 4 mean loss: 1.903\n",
            "Validation 4 epoch accuracy: 0.778\n",
            "Epoch 5 started...\n",
            "Epoch 5 mean loss: 1.916\n",
            "Validation 5 epoch accuracy: 0.767\n",
            "Epoch 6 started...\n",
            "Epoch 6 mean loss: 1.948\n",
            "Validation 6 epoch accuracy: 0.781\n",
            "Epoch 7 started...\n",
            "Epoch 7 mean loss: 1.931\n",
            "Validation 7 epoch accuracy: 0.781\n",
            "Epoch 8 started...\n",
            "Epoch 8 mean loss: 1.875\n",
            "Validation 8 epoch accuracy: 0.747\n",
            "Epoch 9 started...\n",
            "Epoch 9 mean loss: 1.939\n",
            "Validation 9 epoch accuracy: 0.759\n",
            "Epoch 10 started...\n",
            "Epoch 10 mean loss: 1.905\n",
            "Validation 10 epoch accuracy: 0.786\n",
            "Epoch 11 started...\n",
            "Epoch 11 mean loss: 1.904\n",
            "Validation 11 epoch accuracy: 0.798\n",
            "Epoch 12 started...\n",
            "Epoch 12 mean loss: 1.899\n",
            "Validation 12 epoch accuracy: 0.775\n",
            "Epoch 13 started...\n",
            "Epoch 13 mean loss: 1.907\n",
            "Validation 13 epoch accuracy: 0.797\n",
            "Epoch 14 started...\n",
            "Epoch 14 mean loss: 1.910\n",
            "Validation 14 epoch accuracy: 0.777\n",
            "Epoch 15 started...\n",
            "Epoch 15 mean loss: 1.844\n",
            "Validation 15 epoch accuracy: 0.790\n",
            "Epoch 16 started...\n",
            "Epoch 16 mean loss: 1.954\n",
            "Validation 16 epoch accuracy: 0.743\n",
            "Epoch 17 started...\n",
            "Epoch 17 mean loss: 1.845\n",
            "Validation 17 epoch accuracy: 0.797\n",
            "Epoch 18 started...\n",
            "Epoch 18 mean loss: 1.964\n",
            "Validation 18 epoch accuracy: 0.781\n",
            "Epoch 19 started...\n",
            "Epoch 19 mean loss: 1.891\n",
            "Validation 19 epoch accuracy: 0.799\n",
            "<class '__main__.ELU'>\n",
            "Epoch 0 started...\n",
            "Epoch 0 mean loss: 1.793\n",
            "Validation 0 epoch accuracy: 0.800\n",
            "Epoch 1 started...\n",
            "Epoch 1 mean loss: 1.801\n",
            "Validation 1 epoch accuracy: 0.789\n",
            "Epoch 2 started...\n",
            "Epoch 2 mean loss: 1.750\n",
            "Validation 2 epoch accuracy: 0.816\n",
            "Epoch 3 started...\n",
            "Epoch 3 mean loss: 1.762\n",
            "Validation 3 epoch accuracy: 0.782\n",
            "Epoch 4 started...\n",
            "Epoch 4 mean loss: 1.739\n",
            "Validation 4 epoch accuracy: 0.797\n",
            "Epoch 5 started...\n",
            "Epoch 5 mean loss: 1.752\n",
            "Validation 5 epoch accuracy: 0.786\n",
            "Epoch 6 started...\n",
            "Epoch 6 mean loss: 1.742\n",
            "Validation 6 epoch accuracy: 0.769\n",
            "Epoch 7 started...\n",
            "Epoch 7 mean loss: 1.771\n",
            "Validation 7 epoch accuracy: 0.798\n",
            "Epoch 8 started...\n",
            "Epoch 8 mean loss: 1.792\n",
            "Validation 8 epoch accuracy: 0.778\n",
            "Epoch 9 started...\n",
            "Epoch 9 mean loss: 1.711\n",
            "Validation 9 epoch accuracy: 0.810\n",
            "Epoch 10 started...\n",
            "Epoch 10 mean loss: 1.760\n",
            "Validation 10 epoch accuracy: 0.793\n",
            "Epoch 11 started...\n",
            "Epoch 11 mean loss: 1.772\n",
            "Validation 11 epoch accuracy: 0.781\n",
            "Epoch 12 started...\n",
            "Epoch 12 mean loss: 1.800\n",
            "Validation 12 epoch accuracy: 0.802\n",
            "Epoch 13 started...\n",
            "Epoch 13 mean loss: 1.752\n",
            "Validation 13 epoch accuracy: 0.786\n",
            "Epoch 14 started...\n",
            "Epoch 14 mean loss: 1.799\n",
            "Validation 14 epoch accuracy: 0.797\n",
            "Epoch 15 started...\n",
            "Epoch 15 mean loss: 1.768\n",
            "Validation 15 epoch accuracy: 0.809\n",
            "Epoch 16 started...\n",
            "Epoch 16 mean loss: 1.772\n",
            "Validation 16 epoch accuracy: 0.794\n",
            "Epoch 17 started...\n",
            "Epoch 17 mean loss: 1.778\n",
            "Validation 17 epoch accuracy: 0.795\n",
            "Epoch 18 started...\n",
            "Epoch 18 mean loss: 1.757\n",
            "Validation 18 epoch accuracy: 0.790\n",
            "Epoch 19 started...\n",
            "Epoch 19 mean loss: 1.749\n",
            "Validation 19 epoch accuracy: 0.782\n",
            "<class '__main__.LeakyReLU'>\n",
            "Epoch 0 started...\n",
            "Epoch 0 mean loss: 1.914\n",
            "Validation 0 epoch accuracy: 0.755\n",
            "Epoch 1 started...\n",
            "Epoch 1 mean loss: 1.901\n",
            "Validation 1 epoch accuracy: 0.757\n",
            "Epoch 2 started...\n",
            "Epoch 2 mean loss: 1.944\n",
            "Validation 2 epoch accuracy: 0.766\n",
            "Epoch 3 started...\n",
            "Epoch 3 mean loss: 1.895\n",
            "Validation 3 epoch accuracy: 0.787\n",
            "Epoch 4 started...\n",
            "Epoch 4 mean loss: 1.879\n",
            "Validation 4 epoch accuracy: 0.780\n",
            "Epoch 5 started...\n",
            "Epoch 5 mean loss: 1.900\n",
            "Validation 5 epoch accuracy: 0.765\n",
            "Epoch 6 started...\n",
            "Epoch 6 mean loss: 1.877\n",
            "Validation 6 epoch accuracy: 0.778\n",
            "Epoch 7 started...\n",
            "Epoch 7 mean loss: 1.885\n",
            "Validation 7 epoch accuracy: 0.767\n",
            "Epoch 8 started...\n",
            "Epoch 8 mean loss: 1.889\n",
            "Validation 8 epoch accuracy: 0.782\n",
            "Epoch 9 started...\n",
            "Epoch 9 mean loss: 1.860\n",
            "Validation 9 epoch accuracy: 0.787\n",
            "Epoch 10 started...\n",
            "Epoch 10 mean loss: 1.893\n",
            "Validation 10 epoch accuracy: 0.787\n",
            "Epoch 11 started...\n",
            "Epoch 11 mean loss: 1.916\n",
            "Validation 11 epoch accuracy: 0.771\n",
            "Epoch 12 started...\n",
            "Epoch 12 mean loss: 1.868\n",
            "Validation 12 epoch accuracy: 0.761\n",
            "Epoch 13 started...\n",
            "Epoch 13 mean loss: 1.884\n",
            "Validation 13 epoch accuracy: 0.795\n",
            "Epoch 14 started...\n",
            "Epoch 14 mean loss: 1.872\n",
            "Validation 14 epoch accuracy: 0.798\n",
            "Epoch 15 started...\n",
            "Epoch 15 mean loss: 1.922\n",
            "Validation 15 epoch accuracy: 0.774\n",
            "Epoch 16 started...\n",
            "Epoch 16 mean loss: 1.870\n",
            "Validation 16 epoch accuracy: 0.796\n",
            "Epoch 17 started...\n",
            "Epoch 17 mean loss: 1.893\n",
            "Validation 17 epoch accuracy: 0.764\n",
            "Epoch 18 started...\n",
            "Epoch 18 mean loss: 1.838\n",
            "Validation 18 epoch accuracy: 0.763\n",
            "Epoch 19 started...\n",
            "Epoch 19 mean loss: 1.890\n",
            "Validation 19 epoch accuracy: 0.793\n",
            "<class '__main__.SoftPlus'>\n",
            "Epoch 0 started...\n",
            "Epoch 0 mean loss: 2.100\n",
            "Validation 0 epoch accuracy: 0.691\n",
            "Epoch 1 started...\n",
            "Epoch 1 mean loss: 2.116\n",
            "Validation 1 epoch accuracy: 0.719\n",
            "Epoch 2 started...\n",
            "Epoch 2 mean loss: 2.128\n",
            "Validation 2 epoch accuracy: 0.645\n",
            "Epoch 3 started...\n",
            "Epoch 3 mean loss: 2.097\n",
            "Validation 3 epoch accuracy: 0.709\n",
            "Epoch 4 started...\n",
            "Epoch 4 mean loss: 2.100\n",
            "Validation 4 epoch accuracy: 0.694\n",
            "Epoch 5 started...\n",
            "Epoch 5 mean loss: 2.106\n",
            "Validation 5 epoch accuracy: 0.709\n",
            "Epoch 6 started...\n",
            "Epoch 6 mean loss: 2.113\n",
            "Validation 6 epoch accuracy: 0.675\n",
            "Epoch 7 started...\n",
            "Epoch 7 mean loss: 2.097\n",
            "Validation 7 epoch accuracy: 0.597\n",
            "Epoch 8 started...\n",
            "Epoch 8 mean loss: 2.102\n",
            "Validation 8 epoch accuracy: 0.674\n",
            "Epoch 9 started...\n",
            "Epoch 9 mean loss: 2.100\n",
            "Validation 9 epoch accuracy: 0.683\n",
            "Epoch 10 started...\n",
            "Epoch 10 mean loss: 2.095\n",
            "Validation 10 epoch accuracy: 0.706\n",
            "Epoch 11 started...\n",
            "Epoch 11 mean loss: 2.106\n",
            "Validation 11 epoch accuracy: 0.687\n",
            "Epoch 12 started...\n",
            "Epoch 12 mean loss: 2.136\n",
            "Validation 12 epoch accuracy: 0.660\n",
            "Epoch 13 started...\n",
            "Epoch 13 mean loss: 2.103\n",
            "Validation 13 epoch accuracy: 0.678\n",
            "Epoch 14 started...\n",
            "Epoch 14 mean loss: 2.100\n",
            "Validation 14 epoch accuracy: 0.707\n",
            "Epoch 15 started...\n",
            "Epoch 15 mean loss: 2.142\n",
            "Validation 15 epoch accuracy: 0.698\n",
            "Epoch 16 started...\n",
            "Epoch 16 mean loss: 2.114\n",
            "Validation 16 epoch accuracy: 0.702\n",
            "Epoch 17 started...\n",
            "Epoch 17 mean loss: 2.116\n",
            "Validation 17 epoch accuracy: 0.722\n",
            "Epoch 18 started...\n",
            "Epoch 18 mean loss: 2.105\n",
            "Validation 18 epoch accuracy: 0.699\n",
            "Epoch 19 started...\n",
            "Epoch 19 mean loss: 2.114\n",
            "Validation 19 epoch accuracy: 0.675\n"
          ],
          "name": "stdout"
        },
        {
          "output_type": "display_data",
          "data": {
            "image/png": "[encoded data removed]",
            "text/plain": [
              "<Figure size 432x288 with 1 Axes>"
            ]
          },
          "metadata": {
            "tags": [],
            "needs_background": "light"
          }
        }
      ]
    },
    {
      "cell_type": "markdown",
      "metadata": {
        "id": "hiN8GkLkTzbX",
        "colab_type": "text"
      },
      "source": [
        "Сравним адам и сгд"
      ]
    },
    {
      "cell_type": "code",
      "metadata": {
        "id": "f0TpGFLJOo1R",
        "colab_type": "code",
        "colab": {
          "base_uri": "https://localhost:8080/",
          "height": 1000
        },
        "outputId": "d9be18ea-9e91-40f5-ecf1-2cdc7fe63e8a"
      },
      "source": [
        "import torch\n",
        "# adam = torch.optim.Adam(net.getParameters(), lr=1e-4)\n",
        "\n",
        "for opt in ['sgd', 'adam']:\n",
        "    loss_log = []\n",
        "    acc_log = []\n",
        "\n",
        "    optimizer_state = {}\n",
        "    for i in range(20):\n",
        "            print(\"Epoch {} started...\".format(i))\n",
        "            \n",
        "            net = Sequential()\n",
        "\n",
        "            net.add(Flatten())\n",
        "            net.add(Linear(28 * 28, 50))\n",
        "            # net.add(BatchNormalization())\n",
        "            net.add(ReLU())\n",
        "            # net.add(Dropout())\n",
        "            net.add(Linear(50, 10))\n",
        "            net.add(LogSoftMax())\n",
        "\n",
        "            net.train()\n",
        "            epoch_losses = []\n",
        "            for x_batch, y_batch in (get_batches((X_train, y_train), batch_size)):\n",
        "          \n",
        "                net.zeroGradParameters()\n",
        "                \n",
        "                # Forward\n",
        "                predictions = net.forward(x_batch)\n",
        "                loss = criterion.forward(predictions, y_batch)\n",
        "            \n",
        "                # Backward\n",
        "                dp = criterion.backward(predictions, y_batch)\n",
        "                net.backward(x_batch, dp)\n",
        "                \n",
        "                # Update weights\n",
        "                if opt is 'sgd':\n",
        "                    sgd_momentum(net.getParameters(), \n",
        "                                net.getGradParameters(), \n",
        "                                optimizer_config,\n",
        "                                optimizer_state)   \n",
        "                else:\n",
        "                    adam_optimizer(net.getParameters(), \n",
        "                                net.getGradParameters(), \n",
        "                                {'learning_rate': 0.001, 'beta1': 0.9, 'beta2': 0.999, 'epsilon': 1e-08},\n",
        "                                optimizer_state) \n",
        "                \n",
        "                epoch_losses.append(loss)\n",
        "            \n",
        "            avg_loss = np.mean(epoch_losses)\n",
        "            loss_log.append(avg_loss)\n",
        "            print(\"Epoch {} mean loss: {:.3f}\".format(i, avg_loss))\n",
        "            \n",
        "            net.evaluate()\n",
        "            y_true = []\n",
        "            y_pred = []\n",
        "            for x_batch, y_batch in (get_batches((X_val, y_val), batch_size)):\n",
        "                # print(len(x_batch), len(y_batch))\n",
        "\n",
        "                predictions = net.forward(x_batch)\n",
        "                # print(len(list(np.where(predictions == predictions.max(axis=1, keepdims=True), 1, 0))))\n",
        "                y_pred += list(np.where(predictions == predictions.max(axis=1, keepdims=True), 1, 0))\n",
        "                # print(len(list(y_batch)))\n",
        "                y_true += list(y_batch)\n",
        "                \n",
        "            # print(y_true)\n",
        "            # print(y_pred)\n",
        "            acc_log.append(accuracy_score(y_true, y_pred))\n",
        "            print(\"Validation {} epoch accuracy: {:.3f}\".format(i, accuracy_score(y_true, y_pred)))\n",
        "\n",
        "    # print(acc_log)\n",
        "    # plt.title('Accuracy')\n",
        "    # plt.ylabel('acc')\n",
        "    # plt.xlabel('iter')\n",
        "    # plt.plot(acc_log, label=opt)\n",
        "    # plt.legend()\n",
        "    # plt.show()\n",
        "\n",
        "    # print(loss_log)\n",
        "    plt.title('Loss')\n",
        "    plt.ylabel('loss')\n",
        "    plt.xlabel('iter')\n",
        "    plt.plot(loss_log, label=opt)\n",
        "    plt.legend()\n",
        "    # plt.show()"
      ],
      "execution_count": 14,
      "outputs": [
        {
          "output_type": "stream",
          "text": [
            "Epoch 0 started...\n",
            "Epoch 0 mean loss: 2.020\n",
            "Validation 0 epoch accuracy: 0.732\n",
            "Epoch 1 started...\n",
            "Epoch 1 mean loss: 1.884\n",
            "Validation 1 epoch accuracy: 0.775\n",
            "Epoch 2 started...\n",
            "Epoch 2 mean loss: 1.967\n",
            "Validation 2 epoch accuracy: 0.731\n",
            "Epoch 3 started...\n",
            "Epoch 3 mean loss: 1.958\n",
            "Validation 3 epoch accuracy: 0.721\n",
            "Epoch 4 started...\n",
            "Epoch 4 mean loss: 1.872\n",
            "Validation 4 epoch accuracy: 0.787\n",
            "Epoch 5 started...\n",
            "Epoch 5 mean loss: 1.887\n",
            "Validation 5 epoch accuracy: 0.778\n",
            "Epoch 6 started...\n",
            "Epoch 6 mean loss: 1.907\n",
            "Validation 6 epoch accuracy: 0.804\n",
            "Epoch 7 started...\n",
            "Epoch 7 mean loss: 1.923\n",
            "Validation 7 epoch accuracy: 0.768\n",
            "Epoch 8 started...\n",
            "Epoch 8 mean loss: 1.886\n",
            "Validation 8 epoch accuracy: 0.787\n",
            "Epoch 9 started...\n",
            "Epoch 9 mean loss: 1.918\n",
            "Validation 9 epoch accuracy: 0.774\n",
            "Epoch 10 started...\n",
            "Epoch 10 mean loss: 1.898\n",
            "Validation 10 epoch accuracy: 0.781\n",
            "Epoch 11 started...\n",
            "Epoch 11 mean loss: 1.894\n",
            "Validation 11 epoch accuracy: 0.769\n",
            "Epoch 12 started...\n",
            "Epoch 12 mean loss: 1.938\n",
            "Validation 12 epoch accuracy: 0.770\n",
            "Epoch 13 started...\n",
            "Epoch 13 mean loss: 1.887\n",
            "Validation 13 epoch accuracy: 0.773\n",
            "Epoch 14 started...\n",
            "Epoch 14 mean loss: 1.860\n",
            "Validation 14 epoch accuracy: 0.786\n",
            "Epoch 15 started...\n",
            "Epoch 15 mean loss: 1.921\n",
            "Validation 15 epoch accuracy: 0.780\n",
            "Epoch 16 started...\n",
            "Epoch 16 mean loss: 1.916\n",
            "Validation 16 epoch accuracy: 0.760\n",
            "Epoch 17 started...\n",
            "Epoch 17 mean loss: 1.872\n",
            "Validation 17 epoch accuracy: 0.766\n",
            "Epoch 18 started...\n",
            "Epoch 18 mean loss: 1.907\n",
            "Validation 18 epoch accuracy: 0.757\n",
            "Epoch 19 started...\n",
            "Epoch 19 mean loss: 1.873\n",
            "Validation 19 epoch accuracy: 0.800\n",
            "Epoch 0 started...\n",
            "Epoch 0 mean loss: 1.405\n",
            "Validation 0 epoch accuracy: 0.861\n",
            "Epoch 1 started...\n",
            "Epoch 1 mean loss: 1.429\n",
            "Validation 1 epoch accuracy: 0.862\n",
            "Epoch 2 started...\n",
            "Epoch 2 mean loss: 1.463\n",
            "Validation 2 epoch accuracy: 0.856\n",
            "Epoch 3 started...\n",
            "Epoch 3 mean loss: 1.451\n",
            "Validation 3 epoch accuracy: 0.852\n",
            "Epoch 4 started...\n",
            "Epoch 4 mean loss: 1.439\n",
            "Validation 4 epoch accuracy: 0.862\n",
            "Epoch 5 started...\n",
            "Epoch 5 mean loss: 1.463\n",
            "Validation 5 epoch accuracy: 0.852\n",
            "Epoch 6 started...\n",
            "Epoch 6 mean loss: 1.449\n",
            "Validation 6 epoch accuracy: 0.848\n",
            "Epoch 7 started...\n",
            "Epoch 7 mean loss: 1.397\n",
            "Validation 7 epoch accuracy: 0.864\n",
            "Epoch 8 started...\n",
            "Epoch 8 mean loss: 1.447\n",
            "Validation 8 epoch accuracy: 0.853\n",
            "Epoch 9 started...\n",
            "Epoch 9 mean loss: 1.363\n",
            "Validation 9 epoch accuracy: 0.860\n",
            "Epoch 10 started...\n",
            "Epoch 10 mean loss: 1.387\n",
            "Validation 10 epoch accuracy: 0.869\n",
            "Epoch 11 started...\n",
            "Epoch 11 mean loss: 1.502\n",
            "Validation 11 epoch accuracy: 0.849\n",
            "Epoch 12 started...\n",
            "Epoch 12 mean loss: 1.466\n",
            "Validation 12 epoch accuracy: 0.850\n",
            "Epoch 13 started...\n",
            "Epoch 13 mean loss: 1.425\n",
            "Validation 13 epoch accuracy: 0.865\n",
            "Epoch 14 started...\n",
            "Epoch 14 mean loss: 1.421\n",
            "Validation 14 epoch accuracy: 0.861\n",
            "Epoch 15 started...\n",
            "Epoch 15 mean loss: 1.438\n",
            "Validation 15 epoch accuracy: 0.854\n",
            "Epoch 16 started...\n",
            "Epoch 16 mean loss: 1.379\n",
            "Validation 16 epoch accuracy: 0.858\n",
            "Epoch 17 started...\n",
            "Epoch 17 mean loss: 1.457\n",
            "Validation 17 epoch accuracy: 0.856\n",
            "Epoch 18 started...\n",
            "Epoch 18 mean loss: 1.449\n",
            "Validation 18 epoch accuracy: 0.850\n",
            "Epoch 19 started...\n",
            "Epoch 19 mean loss: 1.424\n",
            "Validation 19 epoch accuracy: 0.855\n"
          ],
          "name": "stdout"
        },
        {
          "output_type": "display_data",
          "data": {
            "image/png": "[encoded data removed]",
            "text/plain": [
              "<Figure size 432x288 with 1 Axes>"
            ]
          },
          "metadata": {
            "tags": [],
            "needs_background": "light"
          }
        }
      ]
    },
    {
      "cell_type": "markdown",
      "metadata": {
        "id": "R1ZNK7LuTvqK",
        "colab_type": "text"
      },
      "source": [
        "Посмотрим на нормализацию и дропауты"
      ]
    },
    {
      "cell_type": "code",
      "metadata": {
        "id": "fQh5PH_LTs8H",
        "colab_type": "code",
        "colab": {
          "base_uri": "https://localhost:8080/",
          "height": 1000
        },
        "outputId": "42136f18-56d8-4d26-ee7d-18fd9afd579f"
      },
      "source": [
        "loss_log = []\n",
        "acc_log = []\n",
        "\n",
        "for i in range(n_epoch):\n",
        "    print(\"Epoch {} started...\".format(i))\n",
        "    \n",
        "    net = Sequential()\n",
        "\n",
        "    net.add(Flatten())\n",
        "    net.add(Linear(28 * 28, 50))\n",
        "    net.add(BatchNormalization())\n",
        "    net.add(activation())\n",
        "    net.add(Dropout())\n",
        "    net.add(Linear(50, 10))\n",
        "    net.add(LogSoftMax())\n",
        "\n",
        "    net.train()\n",
        "    epoch_losses = []\n",
        "    for x_batch, y_batch in (get_batches((X_train, y_train), batch_size)):\n",
        "  \n",
        "        net.zeroGradParameters()\n",
        "        \n",
        "        # Forward\n",
        "        predictions = net.forward(x_batch)\n",
        "        loss = criterion.forward(predictions, y_batch)\n",
        "    \n",
        "        # Backward\n",
        "        dp = criterion.backward(predictions, y_batch)\n",
        "        net.backward(x_batch, dp)\n",
        "        \n",
        "        # Update weights\n",
        "        sgd_momentum(net.getParameters(), \n",
        "                    net.getGradParameters(), \n",
        "                    optimizer_config,\n",
        "                    optimizer_state)      \n",
        "        \n",
        "        epoch_losses.append(loss)\n",
        "    \n",
        "    avg_loss = np.mean(epoch_losses)\n",
        "    loss_log.append(avg_loss)\n",
        "    print(\"Epoch {} mean loss: {:.3f}\".format(i, avg_loss))\n",
        "    \n",
        "    net.evaluate()\n",
        "    y_true = []\n",
        "    y_pred = []\n",
        "    for x_batch, y_batch in (get_batches((X_val, y_val), batch_size)):\n",
        "        # print(len(x_batch), len(y_batch))\n",
        "\n",
        "        predictions = net.forward(x_batch)\n",
        "        # print(len(list(np.where(predictions == predictions.max(axis=1, keepdims=True), 1, 0))))\n",
        "        y_pred += list(np.where(predictions == predictions.max(axis=1, keepdims=True), 1, 0))\n",
        "        # print(len(list(y_batch)))\n",
        "        y_true += list(y_batch)\n",
        "        \n",
        "    # print(y_true)\n",
        "    # print(y_pred)\n",
        "    acc_log.append(accuracy_score(y_true, y_pred))\n",
        "    print(\"Validation {} epoch accuracy: {:.3f}\".format(i, accuracy_score(y_true, y_pred)))\n",
        "\n",
        "plt.title('Accuracy')\n",
        "plt.ylabel('acc')\n",
        "plt.xlabel('iter')\n",
        "plt.plot(acc_log)\n",
        "plt.legend()\n",
        "plt.show()\n",
        "\n",
        "plt.title('Loss')\n",
        "plt.ylabel('loss')\n",
        "plt.xlabel('iter')\n",
        "plt.plot(loss_log)\n",
        "plt.legend()\n",
        "plt.show()"
      ],
      "execution_count": 15,
      "outputs": [
        {
          "output_type": "stream",
          "text": [
            "Epoch 0 started...\n",
            "Epoch 0 mean loss: 1.465\n",
            "Validation 0 epoch accuracy: 0.873\n",
            "Epoch 1 started...\n",
            "Epoch 1 mean loss: 1.474\n",
            "Validation 1 epoch accuracy: 0.867\n",
            "Epoch 2 started...\n",
            "Epoch 2 mean loss: 1.489\n",
            "Validation 2 epoch accuracy: 0.865\n",
            "Epoch 3 started...\n",
            "Epoch 3 mean loss: 1.491\n",
            "Validation 3 epoch accuracy: 0.869\n",
            "Epoch 4 started...\n",
            "Epoch 4 mean loss: 1.484\n",
            "Validation 4 epoch accuracy: 0.862\n",
            "Epoch 5 started...\n",
            "Epoch 5 mean loss: 1.446\n",
            "Validation 5 epoch accuracy: 0.868\n",
            "Epoch 6 started...\n",
            "Epoch 6 mean loss: 1.484\n",
            "Validation 6 epoch accuracy: 0.863\n",
            "Epoch 7 started...\n",
            "Epoch 7 mean loss: 1.480\n",
            "Validation 7 epoch accuracy: 0.868\n",
            "Epoch 8 started...\n",
            "Epoch 8 mean loss: 1.467\n",
            "Validation 8 epoch accuracy: 0.869\n",
            "Epoch 9 started...\n",
            "Epoch 9 mean loss: 1.478\n",
            "Validation 9 epoch accuracy: 0.868\n",
            "Epoch 10 started...\n",
            "Epoch 10 mean loss: 1.472\n",
            "Validation 10 epoch accuracy: 0.867\n",
            "Epoch 11 started...\n",
            "Epoch 11 mean loss: 1.476\n",
            "Validation 11 epoch accuracy: 0.868\n",
            "Epoch 12 started...\n",
            "Epoch 12 mean loss: 1.474\n",
            "Validation 12 epoch accuracy: 0.864\n",
            "Epoch 13 started...\n",
            "Epoch 13 mean loss: 1.516\n",
            "Validation 13 epoch accuracy: 0.859\n",
            "Epoch 14 started...\n",
            "Epoch 14 mean loss: 1.499\n",
            "Validation 14 epoch accuracy: 0.878\n",
            "Epoch 15 started...\n",
            "Epoch 15 mean loss: 1.479\n",
            "Validation 15 epoch accuracy: 0.869\n",
            "Epoch 16 started...\n",
            "Epoch 16 mean loss: 1.495\n",
            "Validation 16 epoch accuracy: 0.871\n",
            "Epoch 17 started...\n",
            "Epoch 17 mean loss: 1.497\n",
            "Validation 17 epoch accuracy: 0.869\n",
            "Epoch 18 started...\n",
            "Epoch 18 mean loss: 1.464\n",
            "Validation 18 epoch accuracy: 0.869\n",
            "Epoch 19 started...\n"
          ],
          "name": "stdout"
        },
        {
          "output_type": "stream",
          "text": [
            "No handles with labels found to put in legend.\n"
          ],
          "name": "stderr"
        },
        {
          "output_type": "stream",
          "text": [
            "Epoch 19 mean loss: 1.456\n",
            "Validation 19 epoch accuracy: 0.877\n"
          ],
          "name": "stdout"
        },
        {
          "output_type": "display_data",
          "data": {
            "image/png": "[encoded data removed]",
            "text/plain": [
              "<Figure size 432x288 with 1 Axes>"
            ]
          },
          "metadata": {
            "tags": [],
            "needs_background": "light"
          }
        },
        {
          "output_type": "stream",
          "text": [
            "No handles with labels found to put in legend.\n"
          ],
          "name": "stderr"
        },
        {
          "output_type": "display_data",
          "data": {
            "image/png": "[encoded data removed]",
            "text/plain": [
              "<Figure size 432x288 with 1 Axes>"
            ]
          },
          "metadata": {
            "tags": [],
            "needs_background": "light"
          }
        }
      ]
    },
    {
      "cell_type": "markdown",
      "metadata": {
        "pycharm": {},
        "id": "4FZyixTcMflH",
        "colab_type": "text"
      },
      "source": [
        "Write your personal opinion on the activation functions, think about computation times too. Does `BatchNormalization` help?"
      ]
    },
    {
      "cell_type": "markdown",
      "metadata": {
        "id": "KOacfmqfhgIc",
        "colab_type": "text"
      },
      "source": [
        "**ELU  showed the best results, so this basic layer for non-linearity confirmed its usefulness. BatchNormalization and Dropout layers don't help a lot, the result is almost the same (accuracy was increased in ~1%). But the time of training was increased. Adam optimizer is better than sgd in ~0.6 of loss.**"
      ]
    },
    {
      "cell_type": "markdown",
      "metadata": {
        "pycharm": {},
        "id": "ipDJhJ3fMflO",
        "colab_type": "text"
      },
      "source": [
        "**Finally**, use all your knowledge to build a super cool model on this dataset. Use **dropout** to prevent overfitting, play with **learning rate decay**. You can use **data augmentation** such as rotations, translations to boost your score. Use your knowledge and imagination to train a model. Don't forget to call `training()` and `evaluate()` methods to set desired behaviour of `BatchNormalization` and `Dropout` layers."
      ]
    },
    {
      "cell_type": "code",
      "metadata": {
        "pycharm": {},
        "id": "nhj39qHHMflP",
        "colab_type": "code",
        "colab": {
          "base_uri": "https://localhost:8080/",
          "height": 34
        },
        "outputId": "1aae96f7-0dbd-4222-acc6-5e92da5e00bb"
      },
      "source": [
        "    y_true = []\n",
        "    y_pred = []\n",
        "    for x_batch, y_batch in (get_batches((X_test, y_test), batch_size)):\n",
        "        # print(len(x_batch), len(y_batch))\n",
        "\n",
        "        predictions = net.forward(x_batch)\n",
        "        # print(len(list(np.where(predictions == predictions.max(axis=1, keepdims=True), 1, 0))))\n",
        "        y_pred += list(np.where(predictions == predictions.max(axis=1, keepdims=True), 1, 0))\n",
        "        # print(len(list(y_batch)))\n",
        "        y_true += list(y_batch)\n",
        "        \n",
        "    # print(y_true)\n",
        "    # print(y_pred)\n",
        "    print(\"Test {} accuracy: {:.3f}\".format(i, accuracy_score(y_true, y_pred)))"
      ],
      "execution_count": 16,
      "outputs": [
        {
          "output_type": "stream",
          "text": [
            "Test 19 accuracy: 0.866\n"
          ],
          "name": "stdout"
        }
      ]
    },
    {
      "cell_type": "markdown",
      "metadata": {
        "pycharm": {},
        "id": "92kTd9RkMflg",
        "colab_type": "text"
      },
      "source": [
        "Print here your accuracy on test set. It should be around 90%."
      ]
    },
    {
      "cell_type": "code",
      "metadata": {
        "pycharm": {},
        "id": "FwxwU8hXMflh",
        "colab_type": "code",
        "colab": {
          "base_uri": "https://localhost:8080/",
          "height": 34
        },
        "outputId": "faf08e1d-fd79-470e-c781-db99700bf1a2"
      },
      "source": [
        "# print(len(y_true))\n",
        "# print(len(y_pred))\n",
        "\n",
        "print(\"Test accuracy: {:.3f}\".format(accuracy_score(y_true, y_pred)))"
      ],
      "execution_count": 17,
      "outputs": [
        {
          "output_type": "stream",
          "text": [
            "Test accuracy: 0.866\n"
          ],
          "name": "stdout"
        }
      ]
    },
    {
      "cell_type": "markdown",
      "metadata": {
        "pycharm": {},
        "id": "o7cWksnQMfln",
        "colab_type": "text"
      },
      "source": [
        "### Comparing with PyTorch implementation\n",
        "The last (and maybe the easiest step after compared to the previous tasks: build a network with the same architecture as above now with PyTorch.\n",
        "\n",
        "You can refer to the `week0_09` or `Lab3_part2` notebooks for hints.\n",
        "\n",
        "__Good Luck!__"
      ]
    },
    {
      "cell_type": "code",
      "metadata": {
        "pycharm": {},
        "id": "0vEFgWEcMflo",
        "colab_type": "code",
        "colab": {}
      },
      "source": [
        "from torch import nn\n",
        "\n",
        "class NeuralNetwork(nn.Module):\n",
        "    def __init__(self, input_shape=28*28, num_classes=10, input_channels=50):\n",
        "        super(self.__class__, self).__init__()\n",
        "        self.model = nn.Sequential(\n",
        "            nn.Flatten(), # This layer converts image into a vector to use Linear layers afterwards\n",
        "            # nn.Conv2d(in_channels=1, out_channels=input_shape, kernel_size=3),\n",
        "            nn.Linear(input_shape, input_shape),\n",
        "            nn.BatchNorm1d(input_shape),\n",
        "            nn.ReLU(),\n",
        "            nn.Dropout(),\n",
        "            nn.Linear(input_shape, num_classes),\n",
        "            nn.LogSoftmax()\n",
        "        )\n",
        "        \n",
        "    def forward(self, inp):       \n",
        "        return self.model(inp)\n",
        "        # out = nn.Flatten(inp)\n",
        "        # print(out)\n",
        "\n",
        "net = NeuralNetwork()"
      ],
      "execution_count": 0,
      "outputs": []
    },
    {
      "cell_type": "code",
      "metadata": {
        "id": "gbWMZypaSgX8",
        "colab_type": "code",
        "colab": {}
      },
      "source": [
        "loss_history = []\n",
        "device = 'cuda:0' if torch.cuda.is_available() else 'cpu'\n",
        "net = NeuralNetwork().to(device)\n",
        "optimizer = torch.optim.Adam(net.parameters(), lr=1e-4)\n",
        "criterion = nn.CrossEntropyLoss()\n",
        " "
      ],
      "execution_count": 0,
      "outputs": []
    },
    {
      "cell_type": "code",
      "metadata": {
        "id": "sQ_XC76HaKz0",
        "colab_type": "code",
        "colab": {}
      },
      "source": [
        "import time\n",
        "\n",
        "def train_model(model, dataloaders, criterion, optimizer, num_epochs=25, is_inception=False):\n",
        "    since = time.time()\n",
        "\n",
        "    val_acc_history = []\n",
        "    train_acc_history = []\n",
        "    val_loss_history = []\n",
        "    train_loss_history = []\n",
        "\n",
        "    # best_model_wts = copy.deepcopy(model.state_dict())\n",
        "    best_acc = 0.0\n",
        "\n",
        "    for epoch in range(num_epochs):\n",
        "        print('Epoch {}/{}'.format(epoch, num_epochs - 1))\n",
        "        print('-' * 10)\n",
        "\n",
        "        # Each epoch has a training and validation phase\n",
        "        for phase in ['train', 'val']:\n",
        "            if phase == 'train':\n",
        "                model.train()  # Set model to training mode\n",
        "            else:\n",
        "                model.eval()   # Set model to evaluate mode\n",
        "\n",
        "            running_loss = 0.0\n",
        "            running_corrects = 0\n",
        "\n",
        "            # Iterate over data.\n",
        "            for inputs, labels in dataloaders[phase]:\n",
        "                inputs = inputs.to(device)\n",
        "                labels = labels.to(device)\n",
        "\n",
        "                # zero the parameter gradients\n",
        "                optimizer.zero_grad()\n",
        "\n",
        "                # forward\n",
        "                # track history if only in train\n",
        "                with torch.set_grad_enabled(phase == 'train'):\n",
        "                    # Get model outputs and calculate loss\n",
        "                    # Special case for inception because in training it has an auxiliary output. In train\n",
        "                    #   mode we calculate the loss by summing the final output and the auxiliary output\n",
        "                    #   but in testing we only consider the final output.\n",
        "                    if is_inception and phase == 'train':\n",
        "                        # From https://discuss.pytorch.org/t/how-to-optimize-inception-model-with-auxiliary-classifiers/7958\n",
        "                        outputs, aux_outputs = model.forward(inputs)\n",
        "                        loss1 = criterion(outputs, labels)\n",
        "                        loss2 = criterion(aux_outputs, labels)\n",
        "                        loss = loss1 + 0.4*loss2\n",
        "                    else:\n",
        "                        outputs = model.forward(inputs)\n",
        "                        loss = criterion(outputs, labels)\n",
        "\n",
        "                    _, preds = torch.max(outputs, 1)\n",
        "\n",
        "                    # backward + optimize only if in training phase\n",
        "                    if phase == 'train':\n",
        "                        loss.backward()\n",
        "                        optimizer.step()\n",
        "\n",
        "                # statistics\n",
        "                running_loss += loss.item() * inputs.size(0)\n",
        "                running_corrects += torch.sum(preds == labels.data)\n",
        "\n",
        "            epoch_loss = running_loss / len(dataloaders[phase].dataset)\n",
        "            epoch_acc = running_corrects.double() / len(dataloaders[phase].dataset)\n",
        "\n",
        "            print('{} Loss: {:.4f} Acc: {:.4f}'.format(phase, epoch_loss, epoch_acc))\n",
        "\n",
        "            # deep copy the model\n",
        "            if phase == 'train' and epoch_acc > best_acc:\n",
        "                best_acc = epoch_acc\n",
        "                # best_model_wts = copy.deepcopy(model.state_dict())\n",
        "                train_acc_history.append(epoch_acc)\n",
        "                train_loss_history.append(epoch_loss)\n",
        "            if phase == 'val':\n",
        "                val_acc_history.append(epoch_acc)\n",
        "                val_loss_history.append(epoch_loss)\n",
        "\n",
        "        print()\n",
        "\n",
        "    time_elapsed = time.time() - since\n",
        "    print('Training complete in {:.0f}m {:.0f}s'.format(time_elapsed // 60, time_elapsed % 60))\n",
        "    print('Best val Acc: {:4f}'.format(best_acc))\n",
        "\n",
        "    # print(train_loss_history)\n",
        "    # print(val_loss_history)\n",
        "\n",
        "    plt.title('Loss')\n",
        "    plt.xlabel('Iteration')\n",
        "    plt.ylabel('loss')\n",
        "    plt.plot(train_loss_history)\n",
        "    plt.plot(val_loss_history)\n",
        "    plt.legend(['Train', \"Val\"])\n",
        "    plt.show()\n",
        "\n",
        "    plt.title('Accuracy')\n",
        "    plt.xlabel('Iteration')\n",
        "    plt.ylabel('acc')\n",
        "    plt.plot(train_acc_history)\n",
        "    plt.plot(val_acc_history)\n",
        "    plt.legend(['Train', \"Val\"])\n",
        "    plt.show()\n",
        "\n",
        "    # load best model weights\n",
        "    # model.load_state_dict(best_model_wts)\n",
        "    return model, train_acc_history, val_acc_history, train_loss_history, val_loss_history"
      ],
      "execution_count": 0,
      "outputs": []
    },
    {
      "cell_type": "code",
      "metadata": {
        "id": "wjkqEuYEVTxA",
        "colab_type": "code",
        "colab": {
          "base_uri": "https://localhost:8080/",
          "height": 1000
        },
        "outputId": "8adc9e69-f2c6-413b-9e11-59ffd1b62043"
      },
      "source": [
        "import torch\n",
        "import torchvision\n",
        "\n",
        "train_loader = torch.utils.data.DataLoader(\n",
        "  torchvision.datasets.MNIST('/files/', train=True, download=True,\n",
        "                             transform=torchvision.transforms.Compose([\n",
        "                               torchvision.transforms.ToTensor(),\n",
        "                               torchvision.transforms.Normalize(\n",
        "                                 (0.1307,), (0.3081,))\n",
        "                             ])),\n",
        "  batch_size=batch_size, shuffle=True)\n",
        "\n",
        "test_loader = torch.utils.data.DataLoader(\n",
        "  torchvision.datasets.MNIST('/files/', train=False, download=True,\n",
        "                             transform=torchvision.transforms.Compose([\n",
        "                               torchvision.transforms.ToTensor(),\n",
        "                               torchvision.transforms.Normalize(\n",
        "                                 (0.1307,), (0.3081,))\n",
        "                             ])),\n",
        "  batch_size=batch_size, shuffle=True)\n",
        "\n",
        "# result = train_model(model, {'train': zip(X_train, y_train), 'val': zip(X_val, y_val)}, criterion, optimizer)\n",
        "result = train_model(net, {'train': train_loader, 'val': test_loader}, criterion, optimizer)"
      ],
      "execution_count": 34,
      "outputs": [
        {
          "output_type": "stream",
          "text": [
            "Epoch 0/24\n",
            "----------\n"
          ],
          "name": "stdout"
        },
        {
          "output_type": "stream",
          "text": [
            "/usr/local/lib/python3.6/dist-packages/torch/nn/modules/container.py:100: UserWarning: Implicit dimension choice for log_softmax has been deprecated. Change the call to include dim=X as an argument.\n",
            "  input = module(input)\n"
          ],
          "name": "stderr"
        },
        {
          "output_type": "stream",
          "text": [
            "train Loss: 1.1222 Acc: 0.6847\n",
            "val Loss: 0.5287 Acc: 0.8863\n",
            "\n",
            "Epoch 1/24\n",
            "----------\n",
            "train Loss: 0.4830 Acc: 0.8827\n",
            "val Loss: 0.3583 Acc: 0.9148\n",
            "\n",
            "Epoch 2/24\n",
            "----------\n",
            "train Loss: 0.3641 Acc: 0.9073\n",
            "val Loss: 0.2912 Acc: 0.9261\n",
            "\n",
            "Epoch 3/24\n",
            "----------\n",
            "train Loss: 0.3076 Acc: 0.9196\n",
            "val Loss: 0.2528 Acc: 0.9315\n",
            "\n",
            "Epoch 4/24\n",
            "----------\n",
            "train Loss: 0.2709 Acc: 0.9293\n",
            "val Loss: 0.2268 Acc: 0.9386\n",
            "\n",
            "Epoch 5/24\n",
            "----------\n",
            "train Loss: 0.2451 Acc: 0.9350\n",
            "val Loss: 0.2078 Acc: 0.9432\n",
            "\n",
            "Epoch 6/24\n",
            "----------\n",
            "train Loss: 0.2258 Acc: 0.9391\n",
            "val Loss: 0.1924 Acc: 0.9470\n",
            "\n",
            "Epoch 7/24\n",
            "----------\n",
            "train Loss: 0.2095 Acc: 0.9428\n",
            "val Loss: 0.1809 Acc: 0.9488\n",
            "\n",
            "Epoch 8/24\n",
            "----------\n",
            "train Loss: 0.1971 Acc: 0.9465\n",
            "val Loss: 0.1702 Acc: 0.9514\n",
            "\n",
            "Epoch 9/24\n",
            "----------\n",
            "train Loss: 0.1849 Acc: 0.9499\n",
            "val Loss: 0.1619 Acc: 0.9537\n",
            "\n",
            "Epoch 10/24\n",
            "----------\n",
            "train Loss: 0.1752 Acc: 0.9522\n",
            "val Loss: 0.1541 Acc: 0.9559\n",
            "\n",
            "Epoch 11/24\n",
            "----------\n",
            "train Loss: 0.1657 Acc: 0.9552\n",
            "val Loss: 0.1466 Acc: 0.9588\n",
            "\n",
            "Epoch 12/24\n",
            "----------\n",
            "train Loss: 0.1566 Acc: 0.9585\n",
            "val Loss: 0.1409 Acc: 0.9606\n",
            "\n",
            "Epoch 13/24\n",
            "----------\n",
            "train Loss: 0.1487 Acc: 0.9600\n",
            "val Loss: 0.1350 Acc: 0.9625\n",
            "\n",
            "Epoch 14/24\n",
            "----------\n",
            "train Loss: 0.1442 Acc: 0.9610\n",
            "val Loss: 0.1300 Acc: 0.9642\n",
            "\n",
            "Epoch 15/24\n",
            "----------\n",
            "train Loss: 0.1354 Acc: 0.9640\n",
            "val Loss: 0.1256 Acc: 0.9656\n",
            "\n",
            "Epoch 16/24\n",
            "----------\n",
            "train Loss: 0.1319 Acc: 0.9637\n",
            "val Loss: 0.1213 Acc: 0.9668\n",
            "\n",
            "Epoch 17/24\n",
            "----------\n",
            "train Loss: 0.1253 Acc: 0.9671\n",
            "val Loss: 0.1181 Acc: 0.9676\n",
            "\n",
            "Epoch 18/24\n",
            "----------\n",
            "train Loss: 0.1207 Acc: 0.9678\n",
            "val Loss: 0.1142 Acc: 0.9685\n",
            "\n",
            "Epoch 19/24\n",
            "----------\n",
            "train Loss: 0.1168 Acc: 0.9690\n",
            "val Loss: 0.1111 Acc: 0.9697\n",
            "\n",
            "Epoch 20/24\n",
            "----------\n",
            "train Loss: 0.1126 Acc: 0.9696\n",
            "val Loss: 0.1071 Acc: 0.9699\n",
            "\n",
            "Epoch 21/24\n",
            "----------\n",
            "train Loss: 0.1067 Acc: 0.9715\n",
            "val Loss: 0.1057 Acc: 0.9710\n",
            "\n",
            "Epoch 22/24\n",
            "----------\n",
            "train Loss: 0.1036 Acc: 0.9724\n",
            "val Loss: 0.1024 Acc: 0.9727\n",
            "\n",
            "Epoch 23/24\n",
            "----------\n",
            "train Loss: 0.0990 Acc: 0.9740\n",
            "val Loss: 0.0998 Acc: 0.9721\n",
            "\n",
            "Epoch 24/24\n",
            "----------\n",
            "train Loss: 0.0962 Acc: 0.9747\n",
            "val Loss: 0.0976 Acc: 0.9739\n",
            "\n",
            "Training complete in 3m 31s\n",
            "Best val Acc: 0.974733\n"
          ],
          "name": "stdout"
        },
        {
          "output_type": "display_data",
          "data": {
            "image/png": "[encoded data removed]",
            "text/plain": [
              "<Figure size 432x288 with 1 Axes>"
            ]
          },
          "metadata": {
            "tags": [],
            "needs_background": "light"
          }
        },
        {
          "output_type": "display_data",
          "data": {
            "image/png": "[encoded data removed]",
            "text/plain": [
              "<Figure size 432x288 with 1 Axes>"
            ]
          },
          "metadata": {
            "tags": [],
            "needs_background": "light"
          }
        }
      ]
    },
    {
      "cell_type": "markdown",
      "metadata": {
        "id": "vuNaCw1Mc-G4",
        "colab_type": "text"
      },
      "source": [
        "Реализация из pytorch обошла мою аж на чуть более 10% accuracy! Вывод - лучше пользоваться существующими средствами, написанными профессионалами, чем пилить велосипеды :)"
      ]
    }
  ]
}